{
  "nbformat": 4,
  "nbformat_minor": 0,
  "metadata": {
    "colab": {
      "name": "SafaricomProject-DataCentricStudy",
      "provenance": [],
      "collapsed_sections": []
    },
    "kernelspec": {
      "name": "python3",
      "display_name": "Python 3"
    },
    "language_info": {
      "name": "python"
    }
  },
  "cells": [
    {
      "cell_type": "markdown",
      "metadata": {
        "id": "zeNR3EQa1aTx"
      },
      "source": [
        "#**DATA CENTRIC STUDY OF SAFARICOM**#"
      ]
    },
    {
      "cell_type": "markdown",
      "metadata": {
        "id": "7avqwumw1jJg"
      },
      "source": [
        "## **Problem Statement** "
      ]
    },
    {
      "cell_type": "markdown",
      "metadata": {
        "id": "QmxdtxTO1wa3"
      },
      "source": [
        "Safaricom Plc - is a the leading Telco company in Kenya.The company was established 20 years ago. Safaricom Plc would like to expand to Ethiopia. As a Data Scientist, studying the given dataset, my reasearch seeks to answer these questions:\n",
        "* What strategy has made Safaricom successful?\n",
        "* What strategic lessons can they apply in their expansion move to Ethiopia?"
      ]
    },
    {
      "cell_type": "markdown",
      "metadata": {
        "id": "CW4m9FOI09fj"
      },
      "source": [
        "***THE SOURCE OF DATA*** -This data set was compiled and manually extracted from the Audited Books of Accounts of Safaricom Plc for the years 2008 through to 2020. These Audited Books are readily available from Safaricom Plc's website."
      ]
    },
    {
      "cell_type": "markdown",
      "metadata": {
        "id": "pRYDxYgo2Evy"
      },
      "source": [
        "### Loading the data"
      ]
    },
    {
      "cell_type": "code",
      "metadata": {
        "id": "nCud8tfyT_RM"
      },
      "source": [
        "# importing relevant libraries\n",
        "import pandas as pd\n",
        "import numpy as np\n",
        "import matplotlib.pyplot as plt"
      ],
      "execution_count": null,
      "outputs": []
    },
    {
      "cell_type": "code",
      "metadata": {
        "colab": {
          "base_uri": "https://localhost:8080/",
          "height": 511
        },
        "id": "kF2l4-p5VYv1",
        "outputId": "f55cec47-8ffa-48cd-ccc6-8c2f5155c6c0"
      },
      "source": [
        "# Loading the dataset\n",
        "df=pd.read_excel(\"/content/safcom.xlsx\")\n",
        "df"
      ],
      "execution_count": null,
      "outputs": [
        {
          "output_type": "execute_result",
          "data": {
            "text/html": [
              "<div>\n",
              "<style scoped>\n",
              "    .dataframe tbody tr th:only-of-type {\n",
              "        vertical-align: middle;\n",
              "    }\n",
              "\n",
              "    .dataframe tbody tr th {\n",
              "        vertical-align: top;\n",
              "    }\n",
              "\n",
              "    .dataframe thead th {\n",
              "        text-align: right;\n",
              "    }\n",
              "</style>\n",
              "<table border=\"1\" class=\"dataframe\">\n",
              "  <thead>\n",
              "    <tr style=\"text-align: right;\">\n",
              "      <th></th>\n",
              "      <th>FY</th>\n",
              "      <th>SERVICE_REV</th>\n",
              "      <th>VOICE</th>\n",
              "      <th>MPESA</th>\n",
              "      <th>DATA</th>\n",
              "      <th>FIXED_DATA</th>\n",
              "      <th>SMS</th>\n",
              "      <th>HANDSET</th>\n",
              "      <th>OPERATING-EXP</th>\n",
              "      <th>EBT</th>\n",
              "      <th>TAX</th>\n",
              "      <th>NET_PROFIT</th>\n",
              "      <th>DIVIDENDS PAID</th>\n",
              "      <th>SHAREHOLDER LOAN</th>\n",
              "      <th>CORPORATE BOND</th>\n",
              "      <th>BANK_LOAN</th>\n",
              "      <th>GEARING</th>\n",
              "      <th>CSR-FUND</th>\n",
              "      <th>TOWERS</th>\n",
              "      <th>BASE STATIONS</th>\n",
              "      <th>BROADBAND</th>\n",
              "      <th>BANDWIDTH-mbps</th>\n",
              "      <th>EQUITY</th>\n",
              "      <th>AGENTS NETWORK</th>\n",
              "      <th>RETAIL SHOPS</th>\n",
              "      <th>RETAIL OUTLETS</th>\n",
              "      <th>SUBSCRIBERS</th>\n",
              "      <th>MPESA_USERS</th>\n",
              "      <th>MSHWARI_CUSTOMERS</th>\n",
              "      <th>MSHWARI_LOANS</th>\n",
              "      <th>MSHWARI_DEPOSITS</th>\n",
              "      <th>MPESA_P2P</th>\n",
              "      <th>STAFF_COUNT</th>\n",
              "      <th>MALE</th>\n",
              "      <th>FEMALE</th>\n",
              "      <th>EPS</th>\n",
              "      <th>DIVIDEND_PS</th>\n",
              "    </tr>\n",
              "  </thead>\n",
              "  <tbody>\n",
              "    <tr>\n",
              "      <th>0</th>\n",
              "      <td>2008</td>\n",
              "      <td>61369</td>\n",
              "      <td>54203</td>\n",
              "      <td>1510</td>\n",
              "      <td>NaN</td>\n",
              "      <td>NaN</td>\n",
              "      <td>4972</td>\n",
              "      <td>1815</td>\n",
              "      <td>26070</td>\n",
              "      <td>19945</td>\n",
              "      <td>6091</td>\n",
              "      <td>13853</td>\n",
              "      <td>2000</td>\n",
              "      <td>NaN</td>\n",
              "      <td>NaN</td>\n",
              "      <td>9199</td>\n",
              "      <td>0.0800</td>\n",
              "      <td>210.0</td>\n",
              "      <td>24670</td>\n",
              "      <td>NaN</td>\n",
              "      <td>2G</td>\n",
              "      <td>NaN</td>\n",
              "      <td>32789</td>\n",
              "      <td>1950</td>\n",
              "      <td>10.0</td>\n",
              "      <td>NaN</td>\n",
              "      <td>10.43</td>\n",
              "      <td>2.06</td>\n",
              "      <td>NaN</td>\n",
              "      <td>NaN</td>\n",
              "      <td>NaN</td>\n",
              "      <td>2500.0</td>\n",
              "      <td>NaN</td>\n",
              "      <td>NaN</td>\n",
              "      <td>NaN</td>\n",
              "      <td>0.10</td>\n",
              "      <td>0.35</td>\n",
              "    </tr>\n",
              "    <tr>\n",
              "      <th>1</th>\n",
              "      <td>2009</td>\n",
              "      <td>70479</td>\n",
              "      <td>58795</td>\n",
              "      <td>2930</td>\n",
              "      <td>1510.0</td>\n",
              "      <td>NaN</td>\n",
              "      <td>4670</td>\n",
              "      <td>2310</td>\n",
              "      <td>32790</td>\n",
              "      <td>15304</td>\n",
              "      <td>4767</td>\n",
              "      <td>10536</td>\n",
              "      <td>4000</td>\n",
              "      <td>94580.0</td>\n",
              "      <td>NaN</td>\n",
              "      <td>6311</td>\n",
              "      <td>0.1200</td>\n",
              "      <td>210.0</td>\n",
              "      <td>23983</td>\n",
              "      <td>1800.0</td>\n",
              "      <td>2G3G</td>\n",
              "      <td>NaN</td>\n",
              "      <td>42642</td>\n",
              "      <td>8650</td>\n",
              "      <td>23.0</td>\n",
              "      <td>NaN</td>\n",
              "      <td>13.36</td>\n",
              "      <td>6.18</td>\n",
              "      <td>NaN</td>\n",
              "      <td>NaN</td>\n",
              "      <td>NaN</td>\n",
              "      <td>14467.0</td>\n",
              "      <td>2390.0</td>\n",
              "      <td>1054.0</td>\n",
              "      <td>1336.0</td>\n",
              "      <td>0.05</td>\n",
              "      <td>0.27</td>\n",
              "    </tr>\n",
              "    <tr>\n",
              "      <th>2</th>\n",
              "      <td>2010</td>\n",
              "      <td>83961</td>\n",
              "      <td>64580</td>\n",
              "      <td>7560</td>\n",
              "      <td>2980.0</td>\n",
              "      <td>942.0</td>\n",
              "      <td>5190</td>\n",
              "      <td>3661</td>\n",
              "      <td>26440</td>\n",
              "      <td>20967</td>\n",
              "      <td>5818</td>\n",
              "      <td>15148</td>\n",
              "      <td>8000</td>\n",
              "      <td>97374.0</td>\n",
              "      <td>7513.0</td>\n",
              "      <td>9081</td>\n",
              "      <td>0.0900</td>\n",
              "      <td>275.0</td>\n",
              "      <td>17450</td>\n",
              "      <td>2407.0</td>\n",
              "      <td>2G3G</td>\n",
              "      <td>NaN</td>\n",
              "      <td>62295</td>\n",
              "      <td>17653</td>\n",
              "      <td>30.0</td>\n",
              "      <td>NaN</td>\n",
              "      <td>15.79</td>\n",
              "      <td>9.49</td>\n",
              "      <td>NaN</td>\n",
              "      <td>NaN</td>\n",
              "      <td>NaN</td>\n",
              "      <td>28590.0</td>\n",
              "      <td>2467.0</td>\n",
              "      <td>1396.0</td>\n",
              "      <td>1071.0</td>\n",
              "      <td>0.38</td>\n",
              "      <td>0.25</td>\n",
              "    </tr>\n",
              "    <tr>\n",
              "      <th>3</th>\n",
              "      <td>2011</td>\n",
              "      <td>94832</td>\n",
              "      <td>63501</td>\n",
              "      <td>11784</td>\n",
              "      <td>5370.0</td>\n",
              "      <td>NaN</td>\n",
              "      <td>12911</td>\n",
              "      <td>6635</td>\n",
              "      <td>30676</td>\n",
              "      <td>18361</td>\n",
              "      <td>5202</td>\n",
              "      <td>13159</td>\n",
              "      <td>8000</td>\n",
              "      <td>104932.0</td>\n",
              "      <td>12000.0</td>\n",
              "      <td>3016</td>\n",
              "      <td>0.1300</td>\n",
              "      <td>245.0</td>\n",
              "      <td>25480</td>\n",
              "      <td>2474.0</td>\n",
              "      <td>2G3G</td>\n",
              "      <td>7.2</td>\n",
              "      <td>67454</td>\n",
              "      <td>28000</td>\n",
              "      <td>35.0</td>\n",
              "      <td>NaN</td>\n",
              "      <td>17.18</td>\n",
              "      <td>13.80</td>\n",
              "      <td>NaN</td>\n",
              "      <td>NaN</td>\n",
              "      <td>NaN</td>\n",
              "      <td>NaN</td>\n",
              "      <td>2801.0</td>\n",
              "      <td>1609.0</td>\n",
              "      <td>1192.0</td>\n",
              "      <td>0.33</td>\n",
              "      <td>0.20</td>\n",
              "    </tr>\n",
              "    <tr>\n",
              "      <th>4</th>\n",
              "      <td>2012</td>\n",
              "      <td>100193</td>\n",
              "      <td>68122</td>\n",
              "      <td>16874</td>\n",
              "      <td>6590.0</td>\n",
              "      <td>1371.0</td>\n",
              "      <td>11784</td>\n",
              "      <td>6803</td>\n",
              "      <td>26761</td>\n",
              "      <td>17370</td>\n",
              "      <td>4742</td>\n",
              "      <td>12628</td>\n",
              "      <td>8800</td>\n",
              "      <td>104554.0</td>\n",
              "      <td>17526.0</td>\n",
              "      <td>19005</td>\n",
              "      <td>0.1200</td>\n",
              "      <td>239.0</td>\n",
              "      <td>25740</td>\n",
              "      <td>2690.0</td>\n",
              "      <td>3G2G</td>\n",
              "      <td>21 &amp; 42</td>\n",
              "      <td>72081</td>\n",
              "      <td>39400</td>\n",
              "      <td>36.0</td>\n",
              "      <td>250000.0</td>\n",
              "      <td>19.10</td>\n",
              "      <td>14.90</td>\n",
              "      <td>NaN</td>\n",
              "      <td>NaN</td>\n",
              "      <td>NaN</td>\n",
              "      <td>NaN</td>\n",
              "      <td>2701.0</td>\n",
              "      <td>1543.0</td>\n",
              "      <td>1158.0</td>\n",
              "      <td>0.32</td>\n",
              "      <td>0.22</td>\n",
              "    </tr>\n",
              "    <tr>\n",
              "      <th>5</th>\n",
              "      <td>2013</td>\n",
              "      <td>118051</td>\n",
              "      <td>75848</td>\n",
              "      <td>21844</td>\n",
              "      <td>6611.0</td>\n",
              "      <td>2113.0</td>\n",
              "      <td>10147</td>\n",
              "      <td>6236</td>\n",
              "      <td>27875</td>\n",
              "      <td>23451</td>\n",
              "      <td>7911</td>\n",
              "      <td>17540</td>\n",
              "      <td>12400</td>\n",
              "      <td>104554.0</td>\n",
              "      <td>14517.0</td>\n",
              "      <td>20227</td>\n",
              "      <td>0.0600</td>\n",
              "      <td>210.0</td>\n",
              "      <td>24880</td>\n",
              "      <td>2905.0</td>\n",
              "      <td>3G2G</td>\n",
              "      <td>21 &amp; 42</td>\n",
              "      <td>80265</td>\n",
              "      <td>65547</td>\n",
              "      <td>36.0</td>\n",
              "      <td>250000.0</td>\n",
              "      <td>19.40</td>\n",
              "      <td>17.10</td>\n",
              "      <td>1.2</td>\n",
              "      <td>NaN</td>\n",
              "      <td>NaN</td>\n",
              "      <td>NaN</td>\n",
              "      <td>3254.0</td>\n",
              "      <td>1744.0</td>\n",
              "      <td>1510.0</td>\n",
              "      <td>0.44</td>\n",
              "      <td>0.31</td>\n",
              "    </tr>\n",
              "    <tr>\n",
              "      <th>6</th>\n",
              "      <td>2014</td>\n",
              "      <td>138361</td>\n",
              "      <td>84316</td>\n",
              "      <td>26561</td>\n",
              "      <td>9314.0</td>\n",
              "      <td>2571.0</td>\n",
              "      <td>13620</td>\n",
              "      <td>6312</td>\n",
              "      <td>31892</td>\n",
              "      <td>34984</td>\n",
              "      <td>11967</td>\n",
              "      <td>23018</td>\n",
              "      <td>18831</td>\n",
              "      <td>0.0</td>\n",
              "      <td>13234.0</td>\n",
              "      <td>12615</td>\n",
              "      <td>0.0000</td>\n",
              "      <td>302.0</td>\n",
              "      <td>27780</td>\n",
              "      <td>3140.0</td>\n",
              "      <td>3G2G</td>\n",
              "      <td>21 &amp;42</td>\n",
              "      <td>91235</td>\n",
              "      <td>81025</td>\n",
              "      <td>43.0</td>\n",
              "      <td>270000.0</td>\n",
              "      <td>21.60</td>\n",
              "      <td>18.50</td>\n",
              "      <td>3.6</td>\n",
              "      <td>1200.0</td>\n",
              "      <td>4000.0</td>\n",
              "      <td>NaN</td>\n",
              "      <td>4069.0</td>\n",
              "      <td>2060.0</td>\n",
              "      <td>2009.0</td>\n",
              "      <td>0.57</td>\n",
              "      <td>0.47</td>\n",
              "    </tr>\n",
              "    <tr>\n",
              "      <th>7</th>\n",
              "      <td>2015</td>\n",
              "      <td>156247</td>\n",
              "      <td>87368</td>\n",
              "      <td>32626</td>\n",
              "      <td>14823.0</td>\n",
              "      <td>3128.0</td>\n",
              "      <td>15671</td>\n",
              "      <td>7117</td>\n",
              "      <td>36040</td>\n",
              "      <td>46150</td>\n",
              "      <td>14278</td>\n",
              "      <td>31871</td>\n",
              "      <td>25642</td>\n",
              "      <td>0.0</td>\n",
              "      <td>4753.0</td>\n",
              "      <td>10639</td>\n",
              "      <td>0.0000</td>\n",
              "      <td>335.0</td>\n",
              "      <td>33700</td>\n",
              "      <td>3382.0</td>\n",
              "      <td>2G3G4G</td>\n",
              "      <td>4.3</td>\n",
              "      <td>104276</td>\n",
              "      <td>85756</td>\n",
              "      <td>43.0</td>\n",
              "      <td>275000.0</td>\n",
              "      <td>23.30</td>\n",
              "      <td>20.10</td>\n",
              "      <td>5.8</td>\n",
              "      <td>2100.0</td>\n",
              "      <td>5500.0</td>\n",
              "      <td>11600.0</td>\n",
              "      <td>4251.0</td>\n",
              "      <td>2160.0</td>\n",
              "      <td>2091.0</td>\n",
              "      <td>0.80</td>\n",
              "      <td>0.64</td>\n",
              "    </tr>\n",
              "    <tr>\n",
              "      <th>8</th>\n",
              "      <td>2016</td>\n",
              "      <td>177784</td>\n",
              "      <td>98802</td>\n",
              "      <td>41500</td>\n",
              "      <td>21154.0</td>\n",
              "      <td>3815.0</td>\n",
              "      <td>17328</td>\n",
              "      <td>8621</td>\n",
              "      <td>41261</td>\n",
              "      <td>55763</td>\n",
              "      <td>17658</td>\n",
              "      <td>38104</td>\n",
              "      <td>30483</td>\n",
              "      <td>0.0</td>\n",
              "      <td>0.0</td>\n",
              "      <td>8696</td>\n",
              "      <td>0.0000</td>\n",
              "      <td>414.0</td>\n",
              "      <td>32000</td>\n",
              "      <td>3800.0</td>\n",
              "      <td>2G3G4G</td>\n",
              "      <td>175</td>\n",
              "      <td>105429</td>\n",
              "      <td>100744</td>\n",
              "      <td>44.0</td>\n",
              "      <td>252000.0</td>\n",
              "      <td>25.10</td>\n",
              "      <td>24.00</td>\n",
              "      <td>NaN</td>\n",
              "      <td>NaN</td>\n",
              "      <td>NaN</td>\n",
              "      <td>20200.0</td>\n",
              "      <td>4602.0</td>\n",
              "      <td>2303.0</td>\n",
              "      <td>2299.0</td>\n",
              "      <td>0.95</td>\n",
              "      <td>0.76</td>\n",
              "    </tr>\n",
              "    <tr>\n",
              "      <th>9</th>\n",
              "      <td>2017</td>\n",
              "      <td>204109</td>\n",
              "      <td>93459</td>\n",
              "      <td>55084</td>\n",
              "      <td>29328.0</td>\n",
              "      <td>5242.0</td>\n",
              "      <td>16679</td>\n",
              "      <td>8700</td>\n",
              "      <td>44929</td>\n",
              "      <td>70632</td>\n",
              "      <td>22188</td>\n",
              "      <td>48044</td>\n",
              "      <td>38863</td>\n",
              "      <td>0.0</td>\n",
              "      <td>0.0</td>\n",
              "      <td>16544</td>\n",
              "      <td>0.0902</td>\n",
              "      <td>382.0</td>\n",
              "      <td>38000</td>\n",
              "      <td>4600.0</td>\n",
              "      <td>2G3G4G</td>\n",
              "      <td>1</td>\n",
              "      <td>115739</td>\n",
              "      <td>130000</td>\n",
              "      <td>45.0</td>\n",
              "      <td>260000.0</td>\n",
              "      <td>28.00</td>\n",
              "      <td>27.00</td>\n",
              "      <td>NaN</td>\n",
              "      <td>NaN</td>\n",
              "      <td>NaN</td>\n",
              "      <td>690000.0</td>\n",
              "      <td>5434.0</td>\n",
              "      <td>2663.0</td>\n",
              "      <td>2771.0</td>\n",
              "      <td>1.21</td>\n",
              "      <td>0.97</td>\n",
              "    </tr>\n",
              "    <tr>\n",
              "      <th>10</th>\n",
              "      <td>2018</td>\n",
              "      <td>224535</td>\n",
              "      <td>95639</td>\n",
              "      <td>62907</td>\n",
              "      <td>38687.0</td>\n",
              "      <td>6673.0</td>\n",
              "      <td>17721</td>\n",
              "      <td>8980</td>\n",
              "      <td>50636</td>\n",
              "      <td>79910</td>\n",
              "      <td>24620</td>\n",
              "      <td>54290</td>\n",
              "      <td>44071</td>\n",
              "      <td>0.0</td>\n",
              "      <td>0.0</td>\n",
              "      <td>4040</td>\n",
              "      <td>0.0000</td>\n",
              "      <td>378.0</td>\n",
              "      <td>28293</td>\n",
              "      <td>4690.0</td>\n",
              "      <td>2G3G4G</td>\n",
              "      <td>150</td>\n",
              "      <td>116738</td>\n",
              "      <td>156000</td>\n",
              "      <td>45.0</td>\n",
              "      <td>NaN</td>\n",
              "      <td>40.00</td>\n",
              "      <td>28.00</td>\n",
              "      <td>NaN</td>\n",
              "      <td>NaN</td>\n",
              "      <td>NaN</td>\n",
              "      <td>NaN</td>\n",
              "      <td>6130.0</td>\n",
              "      <td>3060.0</td>\n",
              "      <td>3070.0</td>\n",
              "      <td>1.35</td>\n",
              "      <td>1.10</td>\n",
              "    </tr>\n",
              "    <tr>\n",
              "      <th>11</th>\n",
              "      <td>2019</td>\n",
              "      <td>240303</td>\n",
              "      <td>95938</td>\n",
              "      <td>74900</td>\n",
              "      <td>36265.0</td>\n",
              "      <td>8191.0</td>\n",
              "      <td>17496</td>\n",
              "      <td>9448</td>\n",
              "      <td>53590</td>\n",
              "      <td>91859</td>\n",
              "      <td>28460</td>\n",
              "      <td>63399</td>\n",
              "      <td>50082</td>\n",
              "      <td>0.0</td>\n",
              "      <td>0.0</td>\n",
              "      <td>4032</td>\n",
              "      <td>0.0000</td>\n",
              "      <td>466.0</td>\n",
              "      <td>37300</td>\n",
              "      <td>8097.0</td>\n",
              "      <td>2G3G4G</td>\n",
              "      <td>100</td>\n",
              "      <td>142972</td>\n",
              "      <td>167000</td>\n",
              "      <td>45.0</td>\n",
              "      <td>200000.0</td>\n",
              "      <td>51.00</td>\n",
              "      <td>31.80</td>\n",
              "      <td>6200.0</td>\n",
              "      <td>45000.0</td>\n",
              "      <td>NaN</td>\n",
              "      <td>850000.0</td>\n",
              "      <td>6323.0</td>\n",
              "      <td>3160.0</td>\n",
              "      <td>3163.0</td>\n",
              "      <td>1.58</td>\n",
              "      <td>1.25</td>\n",
              "    </tr>\n",
              "    <tr>\n",
              "      <th>12</th>\n",
              "      <td>2020</td>\n",
              "      <td>239767</td>\n",
              "      <td>94452</td>\n",
              "      <td>84438</td>\n",
              "      <td>40668.0</td>\n",
              "      <td>8967.0</td>\n",
              "      <td>17185</td>\n",
              "      <td>10488</td>\n",
              "      <td>47560</td>\n",
              "      <td>106918</td>\n",
              "      <td>32229</td>\n",
              "      <td>74699</td>\n",
              "      <td>56092</td>\n",
              "      <td>0.0</td>\n",
              "      <td>0.0</td>\n",
              "      <td>8000</td>\n",
              "      <td>0.0000</td>\n",
              "      <td>481.5</td>\n",
              "      <td>36100</td>\n",
              "      <td>4342.0</td>\n",
              "      <td>2G-3G-4GLTE-5G</td>\n",
              "      <td>NaN</td>\n",
              "      <td>143080</td>\n",
              "      <td>170000</td>\n",
              "      <td>NaN</td>\n",
              "      <td>173000.0</td>\n",
              "      <td>NaN</td>\n",
              "      <td>31.19</td>\n",
              "      <td>NaN</td>\n",
              "      <td>NaN</td>\n",
              "      <td>NaN</td>\n",
              "      <td>NaN</td>\n",
              "      <td>6185.0</td>\n",
              "      <td>3045.0</td>\n",
              "      <td>3140.0</td>\n",
              "      <td>1.86</td>\n",
              "      <td>1.40</td>\n",
              "    </tr>\n",
              "  </tbody>\n",
              "</table>\n",
              "</div>"
            ],
            "text/plain": [
              "      FY  SERVICE_REV  VOICE  MPESA  ...    MALE  FEMALE   EPS  DIVIDEND_PS\n",
              "0   2008        61369  54203   1510  ...     NaN     NaN  0.10         0.35\n",
              "1   2009        70479  58795   2930  ...  1054.0  1336.0  0.05         0.27\n",
              "2   2010        83961  64580   7560  ...  1396.0  1071.0  0.38         0.25\n",
              "3   2011        94832  63501  11784  ...  1609.0  1192.0  0.33         0.20\n",
              "4   2012       100193  68122  16874  ...  1543.0  1158.0  0.32         0.22\n",
              "5   2013       118051  75848  21844  ...  1744.0  1510.0  0.44         0.31\n",
              "6   2014       138361  84316  26561  ...  2060.0  2009.0  0.57         0.47\n",
              "7   2015       156247  87368  32626  ...  2160.0  2091.0  0.80         0.64\n",
              "8   2016       177784  98802  41500  ...  2303.0  2299.0  0.95         0.76\n",
              "9   2017       204109  93459  55084  ...  2663.0  2771.0  1.21         0.97\n",
              "10  2018       224535  95639  62907  ...  3060.0  3070.0  1.35         1.10\n",
              "11  2019       240303  95938  74900  ...  3160.0  3163.0  1.58         1.25\n",
              "12  2020       239767  94452  84438  ...  3045.0  3140.0  1.86         1.40\n",
              "\n",
              "[13 rows x 37 columns]"
            ]
          },
          "metadata": {
            "tags": []
          },
          "execution_count": 89
        }
      ]
    },
    {
      "cell_type": "markdown",
      "metadata": {
        "id": "Nfa-Cf0L2enL"
      },
      "source": [
        "### Checking the data"
      ]
    },
    {
      "cell_type": "code",
      "metadata": {
        "colab": {
          "base_uri": "https://localhost:8080/"
        },
        "id": "WJngSNCQW1Hs",
        "outputId": "b9423d07-7adb-441a-daa0-09c2adfc889f"
      },
      "source": [
        "df.shape #To determine the number of records#"
      ],
      "execution_count": null,
      "outputs": [
        {
          "output_type": "execute_result",
          "data": {
            "text/plain": [
              "(13, 37)"
            ]
          },
          "metadata": {
            "tags": []
          },
          "execution_count": 90
        }
      ]
    },
    {
      "cell_type": "code",
      "metadata": {
        "colab": {
          "base_uri": "https://localhost:8080/"
        },
        "id": "52IAtVzF8uqO",
        "outputId": "71b94b4c-5533-46e2-94c3-37472d0c91dc"
      },
      "source": [
        "df.columns #To preview all columns#"
      ],
      "execution_count": null,
      "outputs": [
        {
          "output_type": "execute_result",
          "data": {
            "text/plain": [
              "Index(['FY', 'SERVICE_REV', 'VOICE', 'MPESA', 'DATA', 'FIXED_DATA', 'SMS',\n",
              "       'HANDSET', 'OPERATING-EXP', 'EBT', 'TAX', 'NET_PROFIT',\n",
              "       'DIVIDENDS PAID', 'SHAREHOLDER LOAN', 'CORPORATE BOND', 'BANK_LOAN',\n",
              "       'GEARING', 'CSR-FUND', 'TOWERS', 'BASE STATIONS', 'BROADBAND',\n",
              "       'BANDWIDTH-mbps', 'EQUITY', 'AGENTS NETWORK', 'RETAIL SHOPS',\n",
              "       'RETAIL OUTLETS', 'SUBSCRIBERS', 'MPESA_USERS', 'MSHWARI_CUSTOMERS',\n",
              "       'MSHWARI_LOANS', 'MSHWARI_DEPOSITS', 'MPESA_P2P', 'STAFF_COUNT', 'MALE',\n",
              "       'FEMALE', 'EPS', 'DIVIDEND_PS'],\n",
              "      dtype='object')"
            ]
          },
          "metadata": {
            "tags": []
          },
          "execution_count": 91
        }
      ]
    },
    {
      "cell_type": "code",
      "metadata": {
        "colab": {
          "base_uri": "https://localhost:8080/",
          "height": 243
        },
        "id": "4Q9wSkBB-zXU",
        "outputId": "2467b170-5165-4176-b78b-33b9235be2c8"
      },
      "source": [
        "df.head() #To Preview the top our data.#"
      ],
      "execution_count": null,
      "outputs": [
        {
          "output_type": "execute_result",
          "data": {
            "text/html": [
              "<div>\n",
              "<style scoped>\n",
              "    .dataframe tbody tr th:only-of-type {\n",
              "        vertical-align: middle;\n",
              "    }\n",
              "\n",
              "    .dataframe tbody tr th {\n",
              "        vertical-align: top;\n",
              "    }\n",
              "\n",
              "    .dataframe thead th {\n",
              "        text-align: right;\n",
              "    }\n",
              "</style>\n",
              "<table border=\"1\" class=\"dataframe\">\n",
              "  <thead>\n",
              "    <tr style=\"text-align: right;\">\n",
              "      <th></th>\n",
              "      <th>FY</th>\n",
              "      <th>SERVICE_REV</th>\n",
              "      <th>VOICE</th>\n",
              "      <th>MPESA</th>\n",
              "      <th>DATA</th>\n",
              "      <th>FIXED_DATA</th>\n",
              "      <th>SMS</th>\n",
              "      <th>HANDSET</th>\n",
              "      <th>OPERATING-EXP</th>\n",
              "      <th>EBT</th>\n",
              "      <th>TAX</th>\n",
              "      <th>NET_PROFIT</th>\n",
              "      <th>DIVIDENDS PAID</th>\n",
              "      <th>SHAREHOLDER LOAN</th>\n",
              "      <th>CORPORATE BOND</th>\n",
              "      <th>BANK_LOAN</th>\n",
              "      <th>GEARING</th>\n",
              "      <th>CSR-FUND</th>\n",
              "      <th>TOWERS</th>\n",
              "      <th>BASE STATIONS</th>\n",
              "      <th>BROADBAND</th>\n",
              "      <th>BANDWIDTH-mbps</th>\n",
              "      <th>EQUITY</th>\n",
              "      <th>AGENTS NETWORK</th>\n",
              "      <th>RETAIL SHOPS</th>\n",
              "      <th>RETAIL OUTLETS</th>\n",
              "      <th>SUBSCRIBERS</th>\n",
              "      <th>MPESA_USERS</th>\n",
              "      <th>MSHWARI_CUSTOMERS</th>\n",
              "      <th>MSHWARI_LOANS</th>\n",
              "      <th>MSHWARI_DEPOSITS</th>\n",
              "      <th>MPESA_P2P</th>\n",
              "      <th>STAFF_COUNT</th>\n",
              "      <th>MALE</th>\n",
              "      <th>FEMALE</th>\n",
              "      <th>EPS</th>\n",
              "      <th>DIVIDEND_PS</th>\n",
              "    </tr>\n",
              "  </thead>\n",
              "  <tbody>\n",
              "    <tr>\n",
              "      <th>0</th>\n",
              "      <td>2008</td>\n",
              "      <td>61369</td>\n",
              "      <td>54203</td>\n",
              "      <td>1510</td>\n",
              "      <td>NaN</td>\n",
              "      <td>NaN</td>\n",
              "      <td>4972</td>\n",
              "      <td>1815</td>\n",
              "      <td>26070</td>\n",
              "      <td>19945</td>\n",
              "      <td>6091</td>\n",
              "      <td>13853</td>\n",
              "      <td>2000</td>\n",
              "      <td>NaN</td>\n",
              "      <td>NaN</td>\n",
              "      <td>9199</td>\n",
              "      <td>0.08</td>\n",
              "      <td>210.0</td>\n",
              "      <td>24670</td>\n",
              "      <td>NaN</td>\n",
              "      <td>2G</td>\n",
              "      <td>NaN</td>\n",
              "      <td>32789</td>\n",
              "      <td>1950</td>\n",
              "      <td>10.0</td>\n",
              "      <td>NaN</td>\n",
              "      <td>10.43</td>\n",
              "      <td>2.06</td>\n",
              "      <td>NaN</td>\n",
              "      <td>NaN</td>\n",
              "      <td>NaN</td>\n",
              "      <td>2500.0</td>\n",
              "      <td>NaN</td>\n",
              "      <td>NaN</td>\n",
              "      <td>NaN</td>\n",
              "      <td>0.10</td>\n",
              "      <td>0.35</td>\n",
              "    </tr>\n",
              "    <tr>\n",
              "      <th>1</th>\n",
              "      <td>2009</td>\n",
              "      <td>70479</td>\n",
              "      <td>58795</td>\n",
              "      <td>2930</td>\n",
              "      <td>1510.0</td>\n",
              "      <td>NaN</td>\n",
              "      <td>4670</td>\n",
              "      <td>2310</td>\n",
              "      <td>32790</td>\n",
              "      <td>15304</td>\n",
              "      <td>4767</td>\n",
              "      <td>10536</td>\n",
              "      <td>4000</td>\n",
              "      <td>94580.0</td>\n",
              "      <td>NaN</td>\n",
              "      <td>6311</td>\n",
              "      <td>0.12</td>\n",
              "      <td>210.0</td>\n",
              "      <td>23983</td>\n",
              "      <td>1800.0</td>\n",
              "      <td>2G3G</td>\n",
              "      <td>NaN</td>\n",
              "      <td>42642</td>\n",
              "      <td>8650</td>\n",
              "      <td>23.0</td>\n",
              "      <td>NaN</td>\n",
              "      <td>13.36</td>\n",
              "      <td>6.18</td>\n",
              "      <td>NaN</td>\n",
              "      <td>NaN</td>\n",
              "      <td>NaN</td>\n",
              "      <td>14467.0</td>\n",
              "      <td>2390.0</td>\n",
              "      <td>1054.0</td>\n",
              "      <td>1336.0</td>\n",
              "      <td>0.05</td>\n",
              "      <td>0.27</td>\n",
              "    </tr>\n",
              "    <tr>\n",
              "      <th>2</th>\n",
              "      <td>2010</td>\n",
              "      <td>83961</td>\n",
              "      <td>64580</td>\n",
              "      <td>7560</td>\n",
              "      <td>2980.0</td>\n",
              "      <td>942.0</td>\n",
              "      <td>5190</td>\n",
              "      <td>3661</td>\n",
              "      <td>26440</td>\n",
              "      <td>20967</td>\n",
              "      <td>5818</td>\n",
              "      <td>15148</td>\n",
              "      <td>8000</td>\n",
              "      <td>97374.0</td>\n",
              "      <td>7513.0</td>\n",
              "      <td>9081</td>\n",
              "      <td>0.09</td>\n",
              "      <td>275.0</td>\n",
              "      <td>17450</td>\n",
              "      <td>2407.0</td>\n",
              "      <td>2G3G</td>\n",
              "      <td>NaN</td>\n",
              "      <td>62295</td>\n",
              "      <td>17653</td>\n",
              "      <td>30.0</td>\n",
              "      <td>NaN</td>\n",
              "      <td>15.79</td>\n",
              "      <td>9.49</td>\n",
              "      <td>NaN</td>\n",
              "      <td>NaN</td>\n",
              "      <td>NaN</td>\n",
              "      <td>28590.0</td>\n",
              "      <td>2467.0</td>\n",
              "      <td>1396.0</td>\n",
              "      <td>1071.0</td>\n",
              "      <td>0.38</td>\n",
              "      <td>0.25</td>\n",
              "    </tr>\n",
              "    <tr>\n",
              "      <th>3</th>\n",
              "      <td>2011</td>\n",
              "      <td>94832</td>\n",
              "      <td>63501</td>\n",
              "      <td>11784</td>\n",
              "      <td>5370.0</td>\n",
              "      <td>NaN</td>\n",
              "      <td>12911</td>\n",
              "      <td>6635</td>\n",
              "      <td>30676</td>\n",
              "      <td>18361</td>\n",
              "      <td>5202</td>\n",
              "      <td>13159</td>\n",
              "      <td>8000</td>\n",
              "      <td>104932.0</td>\n",
              "      <td>12000.0</td>\n",
              "      <td>3016</td>\n",
              "      <td>0.13</td>\n",
              "      <td>245.0</td>\n",
              "      <td>25480</td>\n",
              "      <td>2474.0</td>\n",
              "      <td>2G3G</td>\n",
              "      <td>7.2</td>\n",
              "      <td>67454</td>\n",
              "      <td>28000</td>\n",
              "      <td>35.0</td>\n",
              "      <td>NaN</td>\n",
              "      <td>17.18</td>\n",
              "      <td>13.80</td>\n",
              "      <td>NaN</td>\n",
              "      <td>NaN</td>\n",
              "      <td>NaN</td>\n",
              "      <td>NaN</td>\n",
              "      <td>2801.0</td>\n",
              "      <td>1609.0</td>\n",
              "      <td>1192.0</td>\n",
              "      <td>0.33</td>\n",
              "      <td>0.20</td>\n",
              "    </tr>\n",
              "    <tr>\n",
              "      <th>4</th>\n",
              "      <td>2012</td>\n",
              "      <td>100193</td>\n",
              "      <td>68122</td>\n",
              "      <td>16874</td>\n",
              "      <td>6590.0</td>\n",
              "      <td>1371.0</td>\n",
              "      <td>11784</td>\n",
              "      <td>6803</td>\n",
              "      <td>26761</td>\n",
              "      <td>17370</td>\n",
              "      <td>4742</td>\n",
              "      <td>12628</td>\n",
              "      <td>8800</td>\n",
              "      <td>104554.0</td>\n",
              "      <td>17526.0</td>\n",
              "      <td>19005</td>\n",
              "      <td>0.12</td>\n",
              "      <td>239.0</td>\n",
              "      <td>25740</td>\n",
              "      <td>2690.0</td>\n",
              "      <td>3G2G</td>\n",
              "      <td>21 &amp; 42</td>\n",
              "      <td>72081</td>\n",
              "      <td>39400</td>\n",
              "      <td>36.0</td>\n",
              "      <td>250000.0</td>\n",
              "      <td>19.10</td>\n",
              "      <td>14.90</td>\n",
              "      <td>NaN</td>\n",
              "      <td>NaN</td>\n",
              "      <td>NaN</td>\n",
              "      <td>NaN</td>\n",
              "      <td>2701.0</td>\n",
              "      <td>1543.0</td>\n",
              "      <td>1158.0</td>\n",
              "      <td>0.32</td>\n",
              "      <td>0.22</td>\n",
              "    </tr>\n",
              "  </tbody>\n",
              "</table>\n",
              "</div>"
            ],
            "text/plain": [
              "     FY  SERVICE_REV  VOICE  MPESA  ...    MALE  FEMALE   EPS  DIVIDEND_PS\n",
              "0  2008        61369  54203   1510  ...     NaN     NaN  0.10         0.35\n",
              "1  2009        70479  58795   2930  ...  1054.0  1336.0  0.05         0.27\n",
              "2  2010        83961  64580   7560  ...  1396.0  1071.0  0.38         0.25\n",
              "3  2011        94832  63501  11784  ...  1609.0  1192.0  0.33         0.20\n",
              "4  2012       100193  68122  16874  ...  1543.0  1158.0  0.32         0.22\n",
              "\n",
              "[5 rows x 37 columns]"
            ]
          },
          "metadata": {
            "tags": []
          },
          "execution_count": 92
        }
      ]
    },
    {
      "cell_type": "code",
      "metadata": {
        "colab": {
          "base_uri": "https://localhost:8080/",
          "height": 261
        },
        "id": "I37yCHetAbz_",
        "outputId": "f6b7a689-6892-4a0c-8b54-ceb36cb01109"
      },
      "source": [
        "df.tail() #To preview the bottom of our data#"
      ],
      "execution_count": null,
      "outputs": [
        {
          "output_type": "execute_result",
          "data": {
            "text/html": [
              "<div>\n",
              "<style scoped>\n",
              "    .dataframe tbody tr th:only-of-type {\n",
              "        vertical-align: middle;\n",
              "    }\n",
              "\n",
              "    .dataframe tbody tr th {\n",
              "        vertical-align: top;\n",
              "    }\n",
              "\n",
              "    .dataframe thead th {\n",
              "        text-align: right;\n",
              "    }\n",
              "</style>\n",
              "<table border=\"1\" class=\"dataframe\">\n",
              "  <thead>\n",
              "    <tr style=\"text-align: right;\">\n",
              "      <th></th>\n",
              "      <th>FY</th>\n",
              "      <th>SERVICE_REV</th>\n",
              "      <th>VOICE</th>\n",
              "      <th>MPESA</th>\n",
              "      <th>DATA</th>\n",
              "      <th>FIXED_DATA</th>\n",
              "      <th>SMS</th>\n",
              "      <th>HANDSET</th>\n",
              "      <th>OPERATING-EXP</th>\n",
              "      <th>EBT</th>\n",
              "      <th>TAX</th>\n",
              "      <th>NET_PROFIT</th>\n",
              "      <th>DIVIDENDS PAID</th>\n",
              "      <th>SHAREHOLDER LOAN</th>\n",
              "      <th>CORPORATE BOND</th>\n",
              "      <th>BANK_LOAN</th>\n",
              "      <th>GEARING</th>\n",
              "      <th>CSR-FUND</th>\n",
              "      <th>TOWERS</th>\n",
              "      <th>BASE STATIONS</th>\n",
              "      <th>BROADBAND</th>\n",
              "      <th>BANDWIDTH-mbps</th>\n",
              "      <th>EQUITY</th>\n",
              "      <th>AGENTS NETWORK</th>\n",
              "      <th>RETAIL SHOPS</th>\n",
              "      <th>RETAIL OUTLETS</th>\n",
              "      <th>SUBSCRIBERS</th>\n",
              "      <th>MPESA_USERS</th>\n",
              "      <th>MSHWARI_CUSTOMERS</th>\n",
              "      <th>MSHWARI_LOANS</th>\n",
              "      <th>MSHWARI_DEPOSITS</th>\n",
              "      <th>MPESA_P2P</th>\n",
              "      <th>STAFF_COUNT</th>\n",
              "      <th>MALE</th>\n",
              "      <th>FEMALE</th>\n",
              "      <th>EPS</th>\n",
              "      <th>DIVIDEND_PS</th>\n",
              "    </tr>\n",
              "  </thead>\n",
              "  <tbody>\n",
              "    <tr>\n",
              "      <th>8</th>\n",
              "      <td>2016</td>\n",
              "      <td>177784</td>\n",
              "      <td>98802</td>\n",
              "      <td>41500</td>\n",
              "      <td>21154.0</td>\n",
              "      <td>3815.0</td>\n",
              "      <td>17328</td>\n",
              "      <td>8621</td>\n",
              "      <td>41261</td>\n",
              "      <td>55763</td>\n",
              "      <td>17658</td>\n",
              "      <td>38104</td>\n",
              "      <td>30483</td>\n",
              "      <td>0.0</td>\n",
              "      <td>0.0</td>\n",
              "      <td>8696</td>\n",
              "      <td>0.0000</td>\n",
              "      <td>414.0</td>\n",
              "      <td>32000</td>\n",
              "      <td>3800.0</td>\n",
              "      <td>2G3G4G</td>\n",
              "      <td>175</td>\n",
              "      <td>105429</td>\n",
              "      <td>100744</td>\n",
              "      <td>44.0</td>\n",
              "      <td>252000.0</td>\n",
              "      <td>25.1</td>\n",
              "      <td>24.00</td>\n",
              "      <td>NaN</td>\n",
              "      <td>NaN</td>\n",
              "      <td>NaN</td>\n",
              "      <td>20200.0</td>\n",
              "      <td>4602.0</td>\n",
              "      <td>2303.0</td>\n",
              "      <td>2299.0</td>\n",
              "      <td>0.95</td>\n",
              "      <td>0.76</td>\n",
              "    </tr>\n",
              "    <tr>\n",
              "      <th>9</th>\n",
              "      <td>2017</td>\n",
              "      <td>204109</td>\n",
              "      <td>93459</td>\n",
              "      <td>55084</td>\n",
              "      <td>29328.0</td>\n",
              "      <td>5242.0</td>\n",
              "      <td>16679</td>\n",
              "      <td>8700</td>\n",
              "      <td>44929</td>\n",
              "      <td>70632</td>\n",
              "      <td>22188</td>\n",
              "      <td>48044</td>\n",
              "      <td>38863</td>\n",
              "      <td>0.0</td>\n",
              "      <td>0.0</td>\n",
              "      <td>16544</td>\n",
              "      <td>0.0902</td>\n",
              "      <td>382.0</td>\n",
              "      <td>38000</td>\n",
              "      <td>4600.0</td>\n",
              "      <td>2G3G4G</td>\n",
              "      <td>1</td>\n",
              "      <td>115739</td>\n",
              "      <td>130000</td>\n",
              "      <td>45.0</td>\n",
              "      <td>260000.0</td>\n",
              "      <td>28.0</td>\n",
              "      <td>27.00</td>\n",
              "      <td>NaN</td>\n",
              "      <td>NaN</td>\n",
              "      <td>NaN</td>\n",
              "      <td>690000.0</td>\n",
              "      <td>5434.0</td>\n",
              "      <td>2663.0</td>\n",
              "      <td>2771.0</td>\n",
              "      <td>1.21</td>\n",
              "      <td>0.97</td>\n",
              "    </tr>\n",
              "    <tr>\n",
              "      <th>10</th>\n",
              "      <td>2018</td>\n",
              "      <td>224535</td>\n",
              "      <td>95639</td>\n",
              "      <td>62907</td>\n",
              "      <td>38687.0</td>\n",
              "      <td>6673.0</td>\n",
              "      <td>17721</td>\n",
              "      <td>8980</td>\n",
              "      <td>50636</td>\n",
              "      <td>79910</td>\n",
              "      <td>24620</td>\n",
              "      <td>54290</td>\n",
              "      <td>44071</td>\n",
              "      <td>0.0</td>\n",
              "      <td>0.0</td>\n",
              "      <td>4040</td>\n",
              "      <td>0.0000</td>\n",
              "      <td>378.0</td>\n",
              "      <td>28293</td>\n",
              "      <td>4690.0</td>\n",
              "      <td>2G3G4G</td>\n",
              "      <td>150</td>\n",
              "      <td>116738</td>\n",
              "      <td>156000</td>\n",
              "      <td>45.0</td>\n",
              "      <td>NaN</td>\n",
              "      <td>40.0</td>\n",
              "      <td>28.00</td>\n",
              "      <td>NaN</td>\n",
              "      <td>NaN</td>\n",
              "      <td>NaN</td>\n",
              "      <td>NaN</td>\n",
              "      <td>6130.0</td>\n",
              "      <td>3060.0</td>\n",
              "      <td>3070.0</td>\n",
              "      <td>1.35</td>\n",
              "      <td>1.10</td>\n",
              "    </tr>\n",
              "    <tr>\n",
              "      <th>11</th>\n",
              "      <td>2019</td>\n",
              "      <td>240303</td>\n",
              "      <td>95938</td>\n",
              "      <td>74900</td>\n",
              "      <td>36265.0</td>\n",
              "      <td>8191.0</td>\n",
              "      <td>17496</td>\n",
              "      <td>9448</td>\n",
              "      <td>53590</td>\n",
              "      <td>91859</td>\n",
              "      <td>28460</td>\n",
              "      <td>63399</td>\n",
              "      <td>50082</td>\n",
              "      <td>0.0</td>\n",
              "      <td>0.0</td>\n",
              "      <td>4032</td>\n",
              "      <td>0.0000</td>\n",
              "      <td>466.0</td>\n",
              "      <td>37300</td>\n",
              "      <td>8097.0</td>\n",
              "      <td>2G3G4G</td>\n",
              "      <td>100</td>\n",
              "      <td>142972</td>\n",
              "      <td>167000</td>\n",
              "      <td>45.0</td>\n",
              "      <td>200000.0</td>\n",
              "      <td>51.0</td>\n",
              "      <td>31.80</td>\n",
              "      <td>6200.0</td>\n",
              "      <td>45000.0</td>\n",
              "      <td>NaN</td>\n",
              "      <td>850000.0</td>\n",
              "      <td>6323.0</td>\n",
              "      <td>3160.0</td>\n",
              "      <td>3163.0</td>\n",
              "      <td>1.58</td>\n",
              "      <td>1.25</td>\n",
              "    </tr>\n",
              "    <tr>\n",
              "      <th>12</th>\n",
              "      <td>2020</td>\n",
              "      <td>239767</td>\n",
              "      <td>94452</td>\n",
              "      <td>84438</td>\n",
              "      <td>40668.0</td>\n",
              "      <td>8967.0</td>\n",
              "      <td>17185</td>\n",
              "      <td>10488</td>\n",
              "      <td>47560</td>\n",
              "      <td>106918</td>\n",
              "      <td>32229</td>\n",
              "      <td>74699</td>\n",
              "      <td>56092</td>\n",
              "      <td>0.0</td>\n",
              "      <td>0.0</td>\n",
              "      <td>8000</td>\n",
              "      <td>0.0000</td>\n",
              "      <td>481.5</td>\n",
              "      <td>36100</td>\n",
              "      <td>4342.0</td>\n",
              "      <td>2G-3G-4GLTE-5G</td>\n",
              "      <td>NaN</td>\n",
              "      <td>143080</td>\n",
              "      <td>170000</td>\n",
              "      <td>NaN</td>\n",
              "      <td>173000.0</td>\n",
              "      <td>NaN</td>\n",
              "      <td>31.19</td>\n",
              "      <td>NaN</td>\n",
              "      <td>NaN</td>\n",
              "      <td>NaN</td>\n",
              "      <td>NaN</td>\n",
              "      <td>6185.0</td>\n",
              "      <td>3045.0</td>\n",
              "      <td>3140.0</td>\n",
              "      <td>1.86</td>\n",
              "      <td>1.40</td>\n",
              "    </tr>\n",
              "  </tbody>\n",
              "</table>\n",
              "</div>"
            ],
            "text/plain": [
              "      FY  SERVICE_REV  VOICE  MPESA  ...    MALE  FEMALE   EPS  DIVIDEND_PS\n",
              "8   2016       177784  98802  41500  ...  2303.0  2299.0  0.95         0.76\n",
              "9   2017       204109  93459  55084  ...  2663.0  2771.0  1.21         0.97\n",
              "10  2018       224535  95639  62907  ...  3060.0  3070.0  1.35         1.10\n",
              "11  2019       240303  95938  74900  ...  3160.0  3163.0  1.58         1.25\n",
              "12  2020       239767  94452  84438  ...  3045.0  3140.0  1.86         1.40\n",
              "\n",
              "[5 rows x 37 columns]"
            ]
          },
          "metadata": {
            "tags": []
          },
          "execution_count": 93
        }
      ]
    },
    {
      "cell_type": "code",
      "metadata": {
        "colab": {
          "base_uri": "https://localhost:8080/"
        },
        "id": "PjgWohKR9Hl8",
        "outputId": "b4383c27-4853-4923-90a4-5bbdbbb91c33"
      },
      "source": [
        "df.dtypes #To check the data types in our dataset#"
      ],
      "execution_count": null,
      "outputs": [
        {
          "output_type": "execute_result",
          "data": {
            "text/plain": [
              "FY                     int64\n",
              "SERVICE_REV            int64\n",
              "VOICE                  int64\n",
              "MPESA                  int64\n",
              "DATA                 float64\n",
              "FIXED_DATA           float64\n",
              "SMS                    int64\n",
              "HANDSET                int64\n",
              "OPERATING-EXP          int64\n",
              "EBT                    int64\n",
              "TAX                    int64\n",
              "NET_PROFIT             int64\n",
              "DIVIDENDS PAID         int64\n",
              "SHAREHOLDER LOAN     float64\n",
              "CORPORATE BOND       float64\n",
              "BANK_LOAN              int64\n",
              "GEARING              float64\n",
              "CSR-FUND             float64\n",
              "TOWERS                 int64\n",
              "BASE STATIONS        float64\n",
              "BROADBAND             object\n",
              "BANDWIDTH-mbps        object\n",
              "EQUITY                 int64\n",
              "AGENTS NETWORK         int64\n",
              "RETAIL SHOPS         float64\n",
              "RETAIL OUTLETS       float64\n",
              "SUBSCRIBERS          float64\n",
              "MPESA_USERS          float64\n",
              "MSHWARI_CUSTOMERS    float64\n",
              "MSHWARI_LOANS        float64\n",
              "MSHWARI_DEPOSITS     float64\n",
              "MPESA_P2P            float64\n",
              "STAFF_COUNT          float64\n",
              "MALE                 float64\n",
              "FEMALE               float64\n",
              "EPS                  float64\n",
              "DIVIDEND_PS          float64\n",
              "dtype: object"
            ]
          },
          "metadata": {
            "tags": []
          },
          "execution_count": 94
        }
      ]
    },
    {
      "cell_type": "code",
      "metadata": {
        "colab": {
          "base_uri": "https://localhost:8080/"
        },
        "id": "TAZsEMSj7bTx",
        "outputId": "1ecca75d-d916-4ccf-e9b0-4eb327cbc1bf"
      },
      "source": [
        "  df.info()# Checking whether each column has an appropriate datatype"
      ],
      "execution_count": null,
      "outputs": [
        {
          "output_type": "stream",
          "text": [
            "<class 'pandas.core.frame.DataFrame'>\n",
            "RangeIndex: 13 entries, 0 to 12\n",
            "Data columns (total 37 columns):\n",
            " #   Column             Non-Null Count  Dtype  \n",
            "---  ------             --------------  -----  \n",
            " 0   FY                 13 non-null     int64  \n",
            " 1   SERVICE_REV        13 non-null     int64  \n",
            " 2   VOICE              13 non-null     int64  \n",
            " 3   MPESA              13 non-null     int64  \n",
            " 4   DATA               12 non-null     float64\n",
            " 5   FIXED_DATA         10 non-null     float64\n",
            " 6   SMS                13 non-null     int64  \n",
            " 7   HANDSET            13 non-null     int64  \n",
            " 8   OPERATING-EXP      13 non-null     int64  \n",
            " 9   EBT                13 non-null     int64  \n",
            " 10  TAX                13 non-null     int64  \n",
            " 11  NET_PROFIT         13 non-null     int64  \n",
            " 12  DIVIDENDS PAID     13 non-null     int64  \n",
            " 13  SHAREHOLDER LOAN   12 non-null     float64\n",
            " 14  CORPORATE BOND     11 non-null     float64\n",
            " 15  BANK_LOAN          13 non-null     int64  \n",
            " 16  GEARING            13 non-null     float64\n",
            " 17  CSR-FUND           13 non-null     float64\n",
            " 18  TOWERS             13 non-null     int64  \n",
            " 19  BASE STATIONS      12 non-null     float64\n",
            " 20  BROADBAND          13 non-null     object \n",
            " 21  BANDWIDTH-mbps     9 non-null      object \n",
            " 22  EQUITY             13 non-null     int64  \n",
            " 23  AGENTS NETWORK     13 non-null     int64  \n",
            " 24  RETAIL SHOPS       12 non-null     float64\n",
            " 25  RETAIL OUTLETS     8 non-null      float64\n",
            " 26  SUBSCRIBERS        12 non-null     float64\n",
            " 27  MPESA_USERS        13 non-null     float64\n",
            " 28  MSHWARI_CUSTOMERS  4 non-null      float64\n",
            " 29  MSHWARI_LOANS      3 non-null      float64\n",
            " 30  MSHWARI_DEPOSITS   2 non-null      float64\n",
            " 31  MPESA_P2P          7 non-null      float64\n",
            " 32  STAFF_COUNT        12 non-null     float64\n",
            " 33  MALE               12 non-null     float64\n",
            " 34  FEMALE             12 non-null     float64\n",
            " 35  EPS                13 non-null     float64\n",
            " 36  DIVIDEND_PS        13 non-null     float64\n",
            "dtypes: float64(20), int64(15), object(2)\n",
            "memory usage: 3.9+ KB\n"
          ],
          "name": "stdout"
        }
      ]
    },
    {
      "cell_type": "code",
      "metadata": {
        "colab": {
          "base_uri": "https://localhost:8080/",
          "height": 337
        },
        "id": "geeQ4Is24Xi5",
        "outputId": "456361ea-1f52-4fd8-9d6c-502dbb5a0610"
      },
      "source": [
        "df.describe() #Key Measures of the Data#"
      ],
      "execution_count": null,
      "outputs": [
        {
          "output_type": "execute_result",
          "data": {
            "text/html": [
              "<div>\n",
              "<style scoped>\n",
              "    .dataframe tbody tr th:only-of-type {\n",
              "        vertical-align: middle;\n",
              "    }\n",
              "\n",
              "    .dataframe tbody tr th {\n",
              "        vertical-align: top;\n",
              "    }\n",
              "\n",
              "    .dataframe thead th {\n",
              "        text-align: right;\n",
              "    }\n",
              "</style>\n",
              "<table border=\"1\" class=\"dataframe\">\n",
              "  <thead>\n",
              "    <tr style=\"text-align: right;\">\n",
              "      <th></th>\n",
              "      <th>FY</th>\n",
              "      <th>SERVICE_REV</th>\n",
              "      <th>VOICE</th>\n",
              "      <th>MPESA</th>\n",
              "      <th>DATA</th>\n",
              "      <th>FIXED_DATA</th>\n",
              "      <th>SMS</th>\n",
              "      <th>HANDSET</th>\n",
              "      <th>OPERATING-EXP</th>\n",
              "      <th>EBT</th>\n",
              "      <th>TAX</th>\n",
              "      <th>NET_PROFIT</th>\n",
              "      <th>DIVIDENDS PAID</th>\n",
              "      <th>SHAREHOLDER LOAN</th>\n",
              "      <th>CORPORATE BOND</th>\n",
              "      <th>BANK_LOAN</th>\n",
              "      <th>GEARING</th>\n",
              "      <th>CSR-FUND</th>\n",
              "      <th>TOWERS</th>\n",
              "      <th>BASE STATIONS</th>\n",
              "      <th>EQUITY</th>\n",
              "      <th>AGENTS NETWORK</th>\n",
              "      <th>RETAIL SHOPS</th>\n",
              "      <th>RETAIL OUTLETS</th>\n",
              "      <th>SUBSCRIBERS</th>\n",
              "      <th>MPESA_USERS</th>\n",
              "      <th>MSHWARI_CUSTOMERS</th>\n",
              "      <th>MSHWARI_LOANS</th>\n",
              "      <th>MSHWARI_DEPOSITS</th>\n",
              "      <th>MPESA_P2P</th>\n",
              "      <th>STAFF_COUNT</th>\n",
              "      <th>MALE</th>\n",
              "      <th>FEMALE</th>\n",
              "      <th>EPS</th>\n",
              "      <th>DIVIDEND_PS</th>\n",
              "    </tr>\n",
              "  </thead>\n",
              "  <tbody>\n",
              "    <tr>\n",
              "      <th>count</th>\n",
              "      <td>13.00000</td>\n",
              "      <td>13.000000</td>\n",
              "      <td>13.000000</td>\n",
              "      <td>13.000000</td>\n",
              "      <td>12.000000</td>\n",
              "      <td>10.000000</td>\n",
              "      <td>13.000000</td>\n",
              "      <td>13.000000</td>\n",
              "      <td>13.000000</td>\n",
              "      <td>13.000000</td>\n",
              "      <td>13.000000</td>\n",
              "      <td>13.000000</td>\n",
              "      <td>13.000000</td>\n",
              "      <td>12.000000</td>\n",
              "      <td>11.000000</td>\n",
              "      <td>13.000000</td>\n",
              "      <td>13.000000</td>\n",
              "      <td>13.000000</td>\n",
              "      <td>13.000000</td>\n",
              "      <td>12.000000</td>\n",
              "      <td>13.000000</td>\n",
              "      <td>13.000000</td>\n",
              "      <td>12.000000</td>\n",
              "      <td>8.000000</td>\n",
              "      <td>12.000000</td>\n",
              "      <td>13.000000</td>\n",
              "      <td>4.000000</td>\n",
              "      <td>3.00000</td>\n",
              "      <td>2.000000</td>\n",
              "      <td>7.000000</td>\n",
              "      <td>12.000000</td>\n",
              "      <td>12.000000</td>\n",
              "      <td>12.000000</td>\n",
              "      <td>13.000000</td>\n",
              "      <td>13.000000</td>\n",
              "    </tr>\n",
              "    <tr>\n",
              "      <th>mean</th>\n",
              "      <td>2014.00000</td>\n",
              "      <td>146922.384615</td>\n",
              "      <td>79617.153846</td>\n",
              "      <td>33886.000000</td>\n",
              "      <td>17775.000000</td>\n",
              "      <td>4301.300000</td>\n",
              "      <td>12721.076923</td>\n",
              "      <td>6702.000000</td>\n",
              "      <td>36655.384615</td>\n",
              "      <td>46278.000000</td>\n",
              "      <td>14302.384615</td>\n",
              "      <td>32022.230769</td>\n",
              "      <td>23635.692308</td>\n",
              "      <td>42166.166667</td>\n",
              "      <td>6322.090909</td>\n",
              "      <td>10108.076923</td>\n",
              "      <td>0.053092</td>\n",
              "      <td>319.038462</td>\n",
              "      <td>28875.076923</td>\n",
              "      <td>3693.916667</td>\n",
              "      <td>90538.076923</td>\n",
              "      <td>80901.923077</td>\n",
              "      <td>36.250000</td>\n",
              "      <td>241250.000000</td>\n",
              "      <td>23.688333</td>\n",
              "      <td>18.778462</td>\n",
              "      <td>1552.650000</td>\n",
              "      <td>16100.00000</td>\n",
              "      <td>4750.000000</td>\n",
              "      <td>231051.000000</td>\n",
              "      <td>4217.250000</td>\n",
              "      <td>2149.750000</td>\n",
              "      <td>2067.500000</td>\n",
              "      <td>0.764615</td>\n",
              "      <td>0.630000</td>\n",
              "    </tr>\n",
              "    <tr>\n",
              "      <th>std</th>\n",
              "      <td>3.89444</td>\n",
              "      <td>64938.742335</td>\n",
              "      <td>16063.895417</td>\n",
              "      <td>27786.232601</td>\n",
              "      <td>14818.719623</td>\n",
              "      <td>2841.667548</td>\n",
              "      <td>5027.009904</td>\n",
              "      <td>2703.615573</td>\n",
              "      <td>9814.848730</td>\n",
              "      <td>31788.582219</td>\n",
              "      <td>9800.320705</td>\n",
              "      <td>21784.278100</td>\n",
              "      <td>18630.708635</td>\n",
              "      <td>52192.865583</td>\n",
              "      <td>6902.330990</td>\n",
              "      <td>5599.928325</td>\n",
              "      <td>0.054231</td>\n",
              "      <td>97.677288</td>\n",
              "      <td>6127.053825</td>\n",
              "      <td>1662.342348</td>\n",
              "      <td>34938.260015</td>\n",
              "      <td>60573.607610</td>\n",
              "      <td>10.813502</td>\n",
              "      <td>35748.126824</td>\n",
              "      <td>11.535461</td>\n",
              "      <td>9.453721</td>\n",
              "      <td>3098.233903</td>\n",
              "      <td>25032.17929</td>\n",
              "      <td>1060.660172</td>\n",
              "      <td>371143.184405</td>\n",
              "      <td>1515.115125</td>\n",
              "      <td>709.654221</td>\n",
              "      <td>816.893395</td>\n",
              "      <td>0.582489</td>\n",
              "      <td>0.424676</td>\n",
              "    </tr>\n",
              "    <tr>\n",
              "      <th>min</th>\n",
              "      <td>2008.00000</td>\n",
              "      <td>61369.000000</td>\n",
              "      <td>54203.000000</td>\n",
              "      <td>1510.000000</td>\n",
              "      <td>1510.000000</td>\n",
              "      <td>942.000000</td>\n",
              "      <td>4670.000000</td>\n",
              "      <td>1815.000000</td>\n",
              "      <td>26070.000000</td>\n",
              "      <td>15304.000000</td>\n",
              "      <td>4742.000000</td>\n",
              "      <td>10536.000000</td>\n",
              "      <td>2000.000000</td>\n",
              "      <td>0.000000</td>\n",
              "      <td>0.000000</td>\n",
              "      <td>3016.000000</td>\n",
              "      <td>0.000000</td>\n",
              "      <td>210.000000</td>\n",
              "      <td>17450.000000</td>\n",
              "      <td>1800.000000</td>\n",
              "      <td>32789.000000</td>\n",
              "      <td>1950.000000</td>\n",
              "      <td>10.000000</td>\n",
              "      <td>173000.000000</td>\n",
              "      <td>10.430000</td>\n",
              "      <td>2.060000</td>\n",
              "      <td>1.200000</td>\n",
              "      <td>1200.00000</td>\n",
              "      <td>4000.000000</td>\n",
              "      <td>2500.000000</td>\n",
              "      <td>2390.000000</td>\n",
              "      <td>1054.000000</td>\n",
              "      <td>1071.000000</td>\n",
              "      <td>0.050000</td>\n",
              "      <td>0.200000</td>\n",
              "    </tr>\n",
              "    <tr>\n",
              "      <th>25%</th>\n",
              "      <td>2011.00000</td>\n",
              "      <td>94832.000000</td>\n",
              "      <td>64580.000000</td>\n",
              "      <td>11784.000000</td>\n",
              "      <td>6285.000000</td>\n",
              "      <td>2227.500000</td>\n",
              "      <td>10147.000000</td>\n",
              "      <td>6236.000000</td>\n",
              "      <td>27875.000000</td>\n",
              "      <td>19945.000000</td>\n",
              "      <td>5818.000000</td>\n",
              "      <td>13853.000000</td>\n",
              "      <td>8000.000000</td>\n",
              "      <td>0.000000</td>\n",
              "      <td>0.000000</td>\n",
              "      <td>6311.000000</td>\n",
              "      <td>0.000000</td>\n",
              "      <td>239.000000</td>\n",
              "      <td>24880.000000</td>\n",
              "      <td>2636.000000</td>\n",
              "      <td>67454.000000</td>\n",
              "      <td>28000.000000</td>\n",
              "      <td>33.750000</td>\n",
              "      <td>237500.000000</td>\n",
              "      <td>16.832500</td>\n",
              "      <td>13.800000</td>\n",
              "      <td>3.000000</td>\n",
              "      <td>1650.00000</td>\n",
              "      <td>4375.000000</td>\n",
              "      <td>13033.500000</td>\n",
              "      <td>2776.000000</td>\n",
              "      <td>1592.500000</td>\n",
              "      <td>1300.000000</td>\n",
              "      <td>0.330000</td>\n",
              "      <td>0.270000</td>\n",
              "    </tr>\n",
              "    <tr>\n",
              "      <th>50%</th>\n",
              "      <td>2014.00000</td>\n",
              "      <td>138361.000000</td>\n",
              "      <td>84316.000000</td>\n",
              "      <td>26561.000000</td>\n",
              "      <td>12068.500000</td>\n",
              "      <td>3471.500000</td>\n",
              "      <td>13620.000000</td>\n",
              "      <td>6803.000000</td>\n",
              "      <td>32790.000000</td>\n",
              "      <td>34984.000000</td>\n",
              "      <td>11967.000000</td>\n",
              "      <td>23018.000000</td>\n",
              "      <td>18831.000000</td>\n",
              "      <td>0.000000</td>\n",
              "      <td>4753.000000</td>\n",
              "      <td>9081.000000</td>\n",
              "      <td>0.060000</td>\n",
              "      <td>302.000000</td>\n",
              "      <td>27780.000000</td>\n",
              "      <td>3261.000000</td>\n",
              "      <td>91235.000000</td>\n",
              "      <td>81025.000000</td>\n",
              "      <td>39.500000</td>\n",
              "      <td>251000.000000</td>\n",
              "      <td>20.500000</td>\n",
              "      <td>18.500000</td>\n",
              "      <td>4.700000</td>\n",
              "      <td>2100.00000</td>\n",
              "      <td>4750.000000</td>\n",
              "      <td>20200.000000</td>\n",
              "      <td>4160.000000</td>\n",
              "      <td>2110.000000</td>\n",
              "      <td>2050.000000</td>\n",
              "      <td>0.570000</td>\n",
              "      <td>0.470000</td>\n",
              "    </tr>\n",
              "    <tr>\n",
              "      <th>75%</th>\n",
              "      <td>2017.00000</td>\n",
              "      <td>204109.000000</td>\n",
              "      <td>94452.000000</td>\n",
              "      <td>55084.000000</td>\n",
              "      <td>31062.250000</td>\n",
              "      <td>6315.250000</td>\n",
              "      <td>17185.000000</td>\n",
              "      <td>8700.000000</td>\n",
              "      <td>44929.000000</td>\n",
              "      <td>70632.000000</td>\n",
              "      <td>22188.000000</td>\n",
              "      <td>48044.000000</td>\n",
              "      <td>38863.000000</td>\n",
              "      <td>99169.000000</td>\n",
              "      <td>12617.000000</td>\n",
              "      <td>12615.000000</td>\n",
              "      <td>0.090200</td>\n",
              "      <td>382.000000</td>\n",
              "      <td>33700.000000</td>\n",
              "      <td>4406.500000</td>\n",
              "      <td>115739.000000</td>\n",
              "      <td>130000.000000</td>\n",
              "      <td>44.250000</td>\n",
              "      <td>262500.000000</td>\n",
              "      <td>25.825000</td>\n",
              "      <td>27.000000</td>\n",
              "      <td>1554.350000</td>\n",
              "      <td>23550.00000</td>\n",
              "      <td>5125.000000</td>\n",
              "      <td>359295.000000</td>\n",
              "      <td>5608.000000</td>\n",
              "      <td>2758.500000</td>\n",
              "      <td>2845.750000</td>\n",
              "      <td>1.210000</td>\n",
              "      <td>0.970000</td>\n",
              "    </tr>\n",
              "    <tr>\n",
              "      <th>max</th>\n",
              "      <td>2020.00000</td>\n",
              "      <td>240303.000000</td>\n",
              "      <td>98802.000000</td>\n",
              "      <td>84438.000000</td>\n",
              "      <td>40668.000000</td>\n",
              "      <td>8967.000000</td>\n",
              "      <td>17721.000000</td>\n",
              "      <td>10488.000000</td>\n",
              "      <td>53590.000000</td>\n",
              "      <td>106918.000000</td>\n",
              "      <td>32229.000000</td>\n",
              "      <td>74699.000000</td>\n",
              "      <td>56092.000000</td>\n",
              "      <td>104932.000000</td>\n",
              "      <td>17526.000000</td>\n",
              "      <td>20227.000000</td>\n",
              "      <td>0.130000</td>\n",
              "      <td>481.500000</td>\n",
              "      <td>38000.000000</td>\n",
              "      <td>8097.000000</td>\n",
              "      <td>143080.000000</td>\n",
              "      <td>170000.000000</td>\n",
              "      <td>45.000000</td>\n",
              "      <td>275000.000000</td>\n",
              "      <td>51.000000</td>\n",
              "      <td>31.800000</td>\n",
              "      <td>6200.000000</td>\n",
              "      <td>45000.00000</td>\n",
              "      <td>5500.000000</td>\n",
              "      <td>850000.000000</td>\n",
              "      <td>6323.000000</td>\n",
              "      <td>3160.000000</td>\n",
              "      <td>3163.000000</td>\n",
              "      <td>1.860000</td>\n",
              "      <td>1.400000</td>\n",
              "    </tr>\n",
              "  </tbody>\n",
              "</table>\n",
              "</div>"
            ],
            "text/plain": [
              "               FY    SERVICE_REV  ...        EPS  DIVIDEND_PS\n",
              "count    13.00000      13.000000  ...  13.000000    13.000000\n",
              "mean   2014.00000  146922.384615  ...   0.764615     0.630000\n",
              "std       3.89444   64938.742335  ...   0.582489     0.424676\n",
              "min    2008.00000   61369.000000  ...   0.050000     0.200000\n",
              "25%    2011.00000   94832.000000  ...   0.330000     0.270000\n",
              "50%    2014.00000  138361.000000  ...   0.570000     0.470000\n",
              "75%    2017.00000  204109.000000  ...   1.210000     0.970000\n",
              "max    2020.00000  240303.000000  ...   1.860000     1.400000\n",
              "\n",
              "[8 rows x 35 columns]"
            ]
          },
          "metadata": {
            "tags": []
          },
          "execution_count": 96
        }
      ]
    },
    {
      "cell_type": "markdown",
      "metadata": {
        "id": "03FN-Q_m3PmW"
      },
      "source": [
        "### Tidying the Dataset"
      ]
    },
    {
      "cell_type": "code",
      "metadata": {
        "colab": {
          "base_uri": "https://localhost:8080/"
        },
        "id": "IX6mgc0i87CD",
        "outputId": "e795c9d2-a3c1-4bea-ac47-68b12519b7a3"
      },
      "source": [
        "df.isnull().sum() # Checking for missing data#"
      ],
      "execution_count": null,
      "outputs": [
        {
          "output_type": "execute_result",
          "data": {
            "text/plain": [
              "FY                    0\n",
              "SERVICE_REV           0\n",
              "VOICE                 0\n",
              "MPESA                 0\n",
              "DATA                  1\n",
              "FIXED_DATA            3\n",
              "SMS                   0\n",
              "HANDSET               0\n",
              "OPERATING-EXP         0\n",
              "EBT                   0\n",
              "TAX                   0\n",
              "NET_PROFIT            0\n",
              "DIVIDENDS PAID        0\n",
              "SHAREHOLDER LOAN      1\n",
              "CORPORATE BOND        2\n",
              "BANK_LOAN             0\n",
              "GEARING               0\n",
              "CSR-FUND              0\n",
              "TOWERS                0\n",
              "BASE STATIONS         1\n",
              "BROADBAND             0\n",
              "BANDWIDTH-mbps        4\n",
              "EQUITY                0\n",
              "AGENTS NETWORK        0\n",
              "RETAIL SHOPS          1\n",
              "RETAIL OUTLETS        5\n",
              "SUBSCRIBERS           1\n",
              "MPESA_USERS           0\n",
              "MSHWARI_CUSTOMERS     9\n",
              "MSHWARI_LOANS        10\n",
              "MSHWARI_DEPOSITS     11\n",
              "MPESA_P2P             6\n",
              "STAFF_COUNT           1\n",
              "MALE                  1\n",
              "FEMALE                1\n",
              "EPS                   0\n",
              "DIVIDEND_PS           0\n",
              "dtype: int64"
            ]
          },
          "metadata": {
            "tags": []
          },
          "execution_count": 97
        }
      ]
    },
    {
      "cell_type": "code",
      "metadata": {
        "id": "2aHO5TTe9KEI"
      },
      "source": [
        "#Replacing missing variables#\n",
        "\n",
        "df['FIXED_DATA'].fillna(df['FIXED_DATA'].mode(),inplace=True)\n",
        "df['DATA'].fillna(df['DATA'].min(),inplace=True)\n",
        "df['SHAREHOLDER LOAN'].fillna(df['SHAREHOLDER LOAN'].min(),inplace=True)\n",
        "df['CORPORATE BOND'].fillna(df['CORPORATE BOND'].min(),inplace=True)\n",
        "df['BASE STATIONS'].fillna(df['BASE STATIONS'].min(),inplace=True)\n",
        "df['BANDWIDTH-mbps'].fillna(df['BANDWIDTH-mbps'].mode(),inplace=True)\n",
        "df['RETAIL SHOPS'].fillna(df['RETAIL SHOPS'].mode(),inplace=True)\n",
        "df['RETAIL OUTLETS'].fillna(df['RETAIL OUTLETS'].mode(),inplace=True)\n",
        "df['SUBSCRIBERS'].fillna(df['SUBSCRIBERS'].mode(),inplace=True)\n",
        "df['MSHWARI_CUSTOMERS'].fillna(df['MSHWARI_CUSTOMERS'].min(),inplace=True)\n",
        "df['MSHWARI_LOANS'].fillna(df['MSHWARI_LOANS'].min(),inplace=True)\n",
        "df['MSHWARI_DEPOSITS'].fillna(df['MSHWARI_DEPOSITS'].min(),inplace=True)\n",
        "df['MPESA_P2P'].fillna(df['MPESA_P2P'].min(),inplace=True)\n",
        "df['STAFF_COUNT'].fillna(df['STAFF_COUNT'].min(),inplace=True)\n",
        "df['MALE'].fillna(df['MALE'].min(),inplace=True)\n",
        "df['FEMALE'].fillna(df['FEMALE'].min(),inplace=True)"
      ],
      "execution_count": null,
      "outputs": []
    },
    {
      "cell_type": "code",
      "metadata": {
        "colab": {
          "base_uri": "https://localhost:8080/"
        },
        "id": "fHR1MVJ5DGzH",
        "outputId": "60bf0dd3-0540-4909-b3fb-cadd771b0db7"
      },
      "source": [
        "df.isnull().sum() # Checking for missing data#"
      ],
      "execution_count": null,
      "outputs": [
        {
          "output_type": "execute_result",
          "data": {
            "text/plain": [
              "FY                   0\n",
              "SERVICE_REV          0\n",
              "VOICE                0\n",
              "MPESA                0\n",
              "DATA                 0\n",
              "FIXED_DATA           0\n",
              "SMS                  0\n",
              "HANDSET              0\n",
              "OPERATING-EXP        0\n",
              "EBT                  0\n",
              "TAX                  0\n",
              "NET_PROFIT           0\n",
              "DIVIDENDS PAID       0\n",
              "SHAREHOLDER LOAN     0\n",
              "CORPORATE BOND       0\n",
              "BANK_LOAN            0\n",
              "GEARING              0\n",
              "CSR-FUND             0\n",
              "TOWERS               0\n",
              "BASE STATIONS        0\n",
              "BROADBAND            0\n",
              "BANDWIDTH-mbps       3\n",
              "EQUITY               0\n",
              "AGENTS NETWORK       0\n",
              "RETAIL SHOPS         1\n",
              "RETAIL OUTLETS       4\n",
              "SUBSCRIBERS          1\n",
              "MPESA_USERS          0\n",
              "MSHWARI_CUSTOMERS    0\n",
              "MSHWARI_LOANS        0\n",
              "MSHWARI_DEPOSITS     0\n",
              "MPESA_P2P            0\n",
              "STAFF_COUNT          0\n",
              "MALE                 0\n",
              "FEMALE               0\n",
              "EPS                  0\n",
              "DIVIDEND_PS          0\n",
              "dtype: int64"
            ]
          },
          "metadata": {
            "tags": []
          },
          "execution_count": 113
        }
      ]
    },
    {
      "cell_type": "markdown",
      "metadata": {
        "id": "07sOF-dzWV9J"
      },
      "source": [
        "##**KEY FOCUS AREAS**"
      ]
    },
    {
      "cell_type": "markdown",
      "metadata": {
        "id": "N6L0tqBiXBJv"
      },
      "source": [
        "**1.INVESTMENTS REVIEW**"
      ]
    },
    {
      "cell_type": "markdown",
      "metadata": {
        "id": "wprqouPBN6FV"
      },
      "source": [
        "*A -INFRASTRUCTURAL INVESTMENTS*"
      ]
    },
    {
      "cell_type": "markdown",
      "metadata": {
        "id": "P8lg5nP7Bu13"
      },
      "source": [
        "###Millions of Shillings Invested in Towers and Base stations\n"
      ]
    },
    {
      "cell_type": "code",
      "metadata": {
        "colab": {
          "base_uri": "https://localhost:8080/",
          "height": 297
        },
        "id": "S7AczEZp2jl9",
        "outputId": "55e72a44-1bfe-4d4c-d289-bb88fe2a82da"
      },
      "source": [
        "#PLOT-1.a.#Investment in Base Stations\n",
        "df.plot(x=\"FY\", y=\"BASE STATIONS\",)"
      ],
      "execution_count": null,
      "outputs": [
        {
          "output_type": "execute_result",
          "data": {
            "text/plain": [
              "<matplotlib.axes._subplots.AxesSubplot at 0x7fb48959f1d0>"
            ]
          },
          "metadata": {
            "tags": []
          },
          "execution_count": 100
        },
        {
          "output_type": "display_data",
          "data": {
            "image/png": "[encoded data removed]",
            "text/plain": [
              "<Figure size 432x288 with 1 Axes>"
            ]
          },
          "metadata": {
            "tags": [],
            "needs_background": "light"
          }
        }
      ]
    },
    {
      "cell_type": "markdown",
      "metadata": {
        "id": "YC7J2t7RogvE"
      },
      "source": [
        "**The Investments in Base Stations** grew Year on Year from Kes.2bn. in 2008 to Kes.8bn in 2018/2019-Until a sharp decline in 2019 / 2020 owing to global changes"
      ]
    },
    {
      "cell_type": "code",
      "metadata": {
        "colab": {
          "base_uri": "https://localhost:8080/",
          "height": 297
        },
        "id": "NsizUa0gXskQ",
        "outputId": "498d09a1-da6b-4142-f7a7-455593fb6cb1"
      },
      "source": [
        "#PLOT-1.b.#Investment in Towers\n",
        "df.plot(x=\"FY\", y=\"TOWERS\",)"
      ],
      "execution_count": null,
      "outputs": [
        {
          "output_type": "execute_result",
          "data": {
            "text/plain": [
              "<matplotlib.axes._subplots.AxesSubplot at 0x7fb488e33ad0>"
            ]
          },
          "metadata": {
            "tags": []
          },
          "execution_count": 101
        },
        {
          "output_type": "display_data",
          "data": {
            "image/png": "[encoded data removed]",
            "text/plain": [
              "<Figure size 432x288 with 1 Axes>"
            ]
          },
          "metadata": {
            "tags": [],
            "needs_background": "light"
          }
        }
      ]
    },
    {
      "cell_type": "markdown",
      "metadata": {
        "id": "gB_SDiptpBWx"
      },
      "source": [
        "**Investments Value in Towers** ranged from Kes.25Bn. to Kes.35Bn. from FY 2008 to 2020 -We see declined investments during slow economic years e.g 2009-2010 and Election years -2012/2013 and 2017."
      ]
    },
    {
      "cell_type": "markdown",
      "metadata": {
        "id": "khHM31NQomp6"
      },
      "source": [
        "###**Major** Sources of Funds used for these Investments"
      ]
    },
    {
      "cell_type": "code",
      "metadata": {
        "colab": {
          "base_uri": "https://localhost:8080/",
          "height": 297
        },
        "id": "e1_ltgaAvxGE",
        "outputId": "51aaebd0-24c5-4603-a931-929d72f805be"
      },
      "source": [
        "#PLOT-1.c.#Use of External Funds.\n",
        "df.plot(x=\"FY\", y=['SHAREHOLDER LOAN','NET_PROFIT',])"
      ],
      "execution_count": null,
      "outputs": [
        {
          "output_type": "execute_result",
          "data": {
            "text/plain": [
              "<matplotlib.axes._subplots.AxesSubplot at 0x7fb4887dd290>"
            ]
          },
          "metadata": {
            "tags": []
          },
          "execution_count": 102
        },
        {
          "output_type": "display_data",
          "data": {
            "image/png": "[encoded data removed]",
            "text/plain": [
              "<Figure size 432x288 with 1 Axes>"
            ]
          },
          "metadata": {
            "tags": [],
            "needs_background": "light"
          }
        }
      ]
    },
    {
      "cell_type": "markdown",
      "metadata": {
        "id": "Qv9IWh2TzGEI"
      },
      "source": [
        "Safaricom was listed in the NSE Bourse in the year 2008. The IPO issue was over subscribed by 362%. The funds were a huge boost towards its growth and expansion. However reliance on SH.Loans declined  in 2012/2013 due to political influence and a drop in share price. Since then the company has focused on ploughing back Retained Earnings (N.P.) "
      ]
    },
    {
      "cell_type": "code",
      "metadata": {
        "colab": {
          "base_uri": "https://localhost:8080/",
          "height": 297
        },
        "id": "tE9cpsuFx41n",
        "outputId": "bebd461b-2eb8-4bb1-bfcd-caaf67e28524"
      },
      "source": [
        "#PLOT-1.d.#Use of External Funds.\n",
        "df.plot(x=\"FY\", y=['CORPORATE BOND','BANK_LOAN',])"
      ],
      "execution_count": null,
      "outputs": [
        {
          "output_type": "execute_result",
          "data": {
            "text/plain": [
              "<matplotlib.axes._subplots.AxesSubplot at 0x7fb4889456d0>"
            ]
          },
          "metadata": {
            "tags": []
          },
          "execution_count": 103
        },
        {
          "output_type": "display_data",
          "data": {
            "image/png": "[encoded data removed]",
            "text/plain": [
              "<Figure size 432x288 with 1 Axes>"
            ]
          },
          "metadata": {
            "tags": [],
            "needs_background": "light"
          }
        }
      ]
    },
    {
      "cell_type": "markdown",
      "metadata": {
        "id": "rr3DbiZX20tl"
      },
      "source": [
        "One Corporate Bond and Bank Loans have been used to shore up fiancial gaps where needed."
      ]
    },
    {
      "cell_type": "code",
      "metadata": {
        "colab": {
          "base_uri": "https://localhost:8080/",
          "height": 297
        },
        "id": "v7jDsu8j3z-M",
        "outputId": "359fb409-99cf-4b8d-c683-fefe83cd3025"
      },
      "source": [
        "#PLOT-1.e.#Balance of External Funds.\n",
        "df.plot(x=\"FY\", y='GEARING',)"
      ],
      "execution_count": null,
      "outputs": [
        {
          "output_type": "execute_result",
          "data": {
            "text/plain": [
              "<matplotlib.axes._subplots.AxesSubplot at 0x7fb4886cadd0>"
            ]
          },
          "metadata": {
            "tags": []
          },
          "execution_count": 104
        },
        {
          "output_type": "display_data",
          "data": {
            "image/png": "[encoded data removed]",
            "text/plain": [
              "<Figure size 432x288 with 1 Axes>"
            ]
          },
          "metadata": {
            "tags": [],
            "needs_background": "light"
          }
        }
      ]
    },
    {
      "cell_type": "markdown",
      "metadata": {
        "id": "lz30weXX0G6I"
      },
      "source": [
        "**The gearing ratio**- Compares Leverage to Assets.\n",
        "Gearing Ration-was higher during the years the company employed external borrowings.i.e.However, when investments were focused on use of Net Profit Gearing went down. With Exception of 2016-2018 when Bank Loans were used. The Company trend is to payoff debtors very fast and have a nil or minimal gearing ratio."
      ]
    },
    {
      "cell_type": "markdown",
      "metadata": {
        "id": "jRDuWzPnWAhy"
      },
      "source": [
        "*B -HUMAN CAPITAL INVESTMENT*"
      ]
    },
    {
      "cell_type": "code",
      "metadata": {
        "colab": {
          "base_uri": "https://localhost:8080/",
          "height": 297
        },
        "id": "8DW2iDBI6zE0",
        "outputId": "2d957dc7-9921-4aca-a2f9-58f9683dca38"
      },
      "source": [
        "#PLOT-1.f.#Investment in Staff\n",
        "df.plot(x=\"FY\", y=['STAFF_COUNT','MALE','FEMALE',])"
      ],
      "execution_count": null,
      "outputs": [
        {
          "output_type": "execute_result",
          "data": {
            "text/plain": [
              "<matplotlib.axes._subplots.AxesSubplot at 0x7fb488650a10>"
            ]
          },
          "metadata": {
            "tags": []
          },
          "execution_count": 105
        },
        {
          "output_type": "display_data",
          "data": {
            "image/png": "[encoded data removed]",
            "text/plain": [
              "<Figure size 432x288 with 1 Axes>"
            ]
          },
          "metadata": {
            "tags": [],
            "needs_background": "light"
          }
        }
      ]
    },
    {
      "cell_type": "markdown",
      "metadata": {
        "id": "roFMtLU5JQG7"
      },
      "source": [
        "**Safariom is the Employer** of Choice and an Equal opprotunity employer - Staff numbers have grown from 2500 employees in 2008 to over 6000 employees as the company expanded and the gender balance has remained at approximately 50:50 ratio to date. "
      ]
    },
    {
      "cell_type": "markdown",
      "metadata": {
        "id": "WCNPJj95XLmA"
      },
      "source": [
        "2   **RETURN ON INVESTMENTS**"
      ]
    },
    {
      "cell_type": "code",
      "metadata": {
        "colab": {
          "base_uri": "https://localhost:8080/",
          "height": 295
        },
        "id": "J5mn7XSdHIj-",
        "outputId": "68cb0c8c-38fa-4f0c-aae1-3774a20f806e"
      },
      "source": [
        "#PLOT-2.a.#Growth of Subscribers\n",
        "plt.bar(df.FY, df.SUBSCRIBERS)\n",
        "plt.title(\"GROWTH OF SUBSCRIBERS\")\n",
        "plt.xlabel(\"Financial Year\")\n",
        "plt.ylabel(\"Millions\")\n",
        "plt.show()"
      ],
      "execution_count": null,
      "outputs": [
        {
          "output_type": "display_data",
          "data": {
            "image/png": "[encoded data removed]",
            "text/plain": [
              "<Figure size 432x288 with 1 Axes>"
            ]
          },
          "metadata": {
            "tags": [],
            "needs_background": "light"
          }
        }
      ]
    },
    {
      "cell_type": "markdown",
      "metadata": {
        "id": "l_YlMkY-URNE"
      },
      "source": [
        "***Safaricom Subscribers*** have grown from 10 million subscribers in year 2008 to over 50.million subscribers to date.\n",
        " This mirrors the expansion growth of Base Stations and Towers nation wide.Population growth in Kenya is also a factor."
      ]
    },
    {
      "cell_type": "code",
      "metadata": {
        "colab": {
          "base_uri": "https://localhost:8080/",
          "height": 295
        },
        "id": "krndnHNfIwCo",
        "outputId": "fe835895-5f20-4ffa-c96d-3d50f8a5a65b"
      },
      "source": [
        "#PLOT-2.b.#Growth of Voice Revenue\n",
        "plt.bar(df.FY, df.VOICE)\n",
        "plt.title(\"GROWTH OF VOICE REVENUE\")\n",
        "plt.xlabel(\"Financial Year\")\n",
        "plt.ylabel(\"Kshs.Millions\")\n",
        "plt.show()"
      ],
      "execution_count": null,
      "outputs": [
        {
          "output_type": "display_data",
          "data": {
            "image/png": "[encoded data removed]",
            "text/plain": [
              "<Figure size 432x288 with 1 Axes>"
            ]
          },
          "metadata": {
            "tags": [],
            "needs_background": "light"
          }
        }
      ]
    },
    {
      "cell_type": "markdown",
      "metadata": {
        "id": "SwK00dj24VKk"
      },
      "source": [
        "***Voice Revenue*** was the mainstay from Safaricom Subscribers, growing with a relatively  steady upward trend from year 2008 to 2016. However, these line of Revenue began to dip downwards and stagnate from 2017 to 2020, due to competitors. The company also began to diversify into other Revenue lines as elaborated ahead."
      ]
    },
    {
      "cell_type": "code",
      "metadata": {
        "colab": {
          "base_uri": "https://localhost:8080/",
          "height": 295
        },
        "id": "Fifi6bGONsya",
        "outputId": "57953570-18b2-4a7f-df20-015303e55234"
      },
      "source": [
        "#PLOT-2.c.#Growth of SMS Revenue\n",
        "plt.bar(df.FY, df.SMS,)#Growth of SMS Reveue from Subscribers\n",
        "plt.title(\"SMS REVENUE\")\n",
        "plt.xlabel(\"Financial Year\")\n",
        "plt.ylabel(\"Kshs.Millions\")\n",
        "plt.show()"
      ],
      "execution_count": null,
      "outputs": [
        {
          "output_type": "display_data",
          "data": {
            "image/png": "[encoded data removed]",
            "text/plain": [
              "<Figure size 432x288 with 1 Axes>"
            ]
          },
          "metadata": {
            "tags": [],
            "needs_background": "light"
          }
        }
      ]
    },
    {
      "cell_type": "markdown",
      "metadata": {
        "id": "YkD8v-1WCRRB"
      },
      "source": [
        "**SMS Revenue** grew sharply in 2011 on lowering the cost of each sms to 1 shilling. -However, the trend reversed to declined revenues,after mobile data usage grew and adoption of Whatsapp came into play - sms usage declines. The company then innovated the SMS bundles which boosted its revenue and made it plateu from 2016 to 2020. (Gross Kes.17.5Bn.today)"
      ]
    },
    {
      "cell_type": "code",
      "metadata": {
        "colab": {
          "base_uri": "https://localhost:8080/",
          "height": 295
        },
        "id": "DzilPR3zCxF_",
        "outputId": "4cd7f3ec-4da0-4a2e-b8f8-08e86df6a941"
      },
      "source": [
        "plt.bar(df.FY, df.DATA,) #PLOT-2.b.#Growth of Mobile Data Revenue\n",
        "plt.title(\"MOBILE DATA REVENUE\")\n",
        "plt.xlabel(\"Financial Year\")\n",
        "plt.ylabel(\"Kshs.Millions\")\n",
        "plt.show()"
      ],
      "execution_count": null,
      "outputs": [
        {
          "output_type": "display_data",
          "data": {
            "image/png": "[encoded data removed]",
            "text/plain": [
              "<Figure size 432x288 with 1 Axes>"
            ]
          },
          "metadata": {
            "tags": [],
            "needs_background": "light"
          }
        }
      ]
    },
    {
      "cell_type": "markdown",
      "metadata": {
        "id": "8o-s-D0sDOBr"
      },
      "source": [
        "**Mobile Data Revenue** has a had a generally gradual growth.\n",
        "However, it grew sharply in 2018 at the peak of Investments in Base Stations.\n",
        "We see a similar sharp growth trend in 2020 which can be attributed to the adoption of Digitalisation owing to the Covid-19 pandemic. (Gross Kes.40.Bn.today)"
      ]
    },
    {
      "cell_type": "code",
      "metadata": {
        "colab": {
          "base_uri": "https://localhost:8080/",
          "height": 295
        },
        "id": "8qzNlWBS_gKX",
        "outputId": "adbc81b2-dccc-419d-fa9b-be43f9fc988a"
      },
      "source": [
        "#PLOT-2.d.#Growth of Revenue from the Sale of Handsets etc\n",
        "plt.bar(df.FY, df.HANDSET,)\n",
        "plt.title(\"GADGET SALES REVENUE\")#Growth of Reveue from Sale of mobile handsets and accessories\n",
        "plt.xlabel(\"Financial Year\")\n",
        "plt.ylabel(\"Kshs.Millions\")\n",
        "plt.show()"
      ],
      "execution_count": null,
      "outputs": [
        {
          "output_type": "display_data",
          "data": {
            "image/png": "[encoded data removed]",
            "text/plain": [
              "<Figure size 432x288 with 1 Axes>"
            ]
          },
          "metadata": {
            "tags": [],
            "needs_background": "light"
          }
        }
      ]
    },
    {
      "cell_type": "markdown",
      "metadata": {
        "id": "PjVAtCcGAlMY"
      },
      "source": [
        "***Gadget Sales*** - grew as the company expanded -with a spike in 2011-2012 when cheaper mobile phones (Costing less than Kshs.2,000) were introduced \n"
      ]
    },
    {
      "cell_type": "code",
      "metadata": {
        "colab": {
          "base_uri": "https://localhost:8080/",
          "height": 295
        },
        "id": "DhymchRlzUie",
        "outputId": "d0b5a076-c2b2-4917-aaec-ea80089da564"
      },
      "source": [
        "#PLOT-2.d.#Growth of Mpesa Revenue from Subscribers\n",
        "plt.bar(df.FY, df.MPESA)\n",
        "plt.title(\"MPESA REVENUE GROWTH\")\n",
        "plt.xlabel(\"Financial Year\")\n",
        "plt.ylabel(\"Kshs.Millions\")\n",
        "plt.show()"
      ],
      "execution_count": null,
      "outputs": [
        {
          "output_type": "display_data",
          "data": {
            "image/png": "[encoded data removed]",
            "text/plain": [
              "<Figure size 432x288 with 1 Axes>"
            ]
          },
          "metadata": {
            "tags": [],
            "needs_background": "light"
          }
        }
      ]
    },
    {
      "cell_type": "markdown",
      "metadata": {
        "id": "84OqxQ5lYWc7"
      },
      "source": [
        "**M-pesa Revenue** has been on an upward trajectory growth path, owing to minimal competition and its versatile uses. MPESA has been a key product for money transfer, payment solutions and fintechs."
      ]
    },
    {
      "cell_type": "code",
      "metadata": {
        "colab": {
          "base_uri": "https://localhost:8080/",
          "height": 295
        },
        "id": "jfXgXIxi7NA8",
        "outputId": "8e4041f8-7af5-4d1b-ac0e-7be2b23e9296"
      },
      "source": [
        "#PLOT-2.e.#Aggregate Revenue Growth\n",
        "plt.barh(df.FY, df.SERVICE_REV,)\n",
        "plt.title(\"REVENUE STREAMS\")\n",
        "plt.xlabel(\"Financial Year\")\n",
        "plt.ylabel(\"Kshs.Millions\")\n",
        "plt.show()"
      ],
      "execution_count": null,
      "outputs": [
        {
          "output_type": "display_data",
          "data": {
            "image/png": "[encoded data removed]",
            "text/plain": [
              "<Figure size 432x288 with 1 Axes>"
            ]
          },
          "metadata": {
            "tags": [],
            "needs_background": "light"
          }
        }
      ]
    },
    {
      "cell_type": "markdown",
      "metadata": {
        "id": "V-Kda3QO_OXd"
      },
      "source": [
        "**Service Revenue** - is the sum of all revenue generated. \n",
        "Safaricoms Overall Revenue has grown leaps and bounds from Kes.50,000.million to Kshs. 250,000.million.\n",
        "\n"
      ]
    },
    {
      "cell_type": "code",
      "metadata": {
        "colab": {
          "base_uri": "https://localhost:8080/",
          "height": 297
        },
        "id": "ks3WHPOnFteB",
        "outputId": "1dc23d51-57f8-4e6b-d8a8-352a4dd9ec7d"
      },
      "source": [
        "#PLOT-2.f.#Net Profit from all Revenues\n",
        "df.plot(x=\"FY\", y='NET_PROFIT',)"
      ],
      "execution_count": null,
      "outputs": [
        {
          "output_type": "execute_result",
          "data": {
            "text/plain": [
              "<matplotlib.axes._subplots.AxesSubplot at 0x7fb4885c0350>"
            ]
          },
          "metadata": {
            "tags": []
          },
          "execution_count": 120
        },
        {
          "output_type": "display_data",
          "data": {
            "image/png": "[encoded data removed]",
            "text/plain": [
              "<Figure size 432x288 with 1 Axes>"
            ]
          },
          "metadata": {
            "tags": [],
            "needs_background": "light"
          }
        }
      ]
    },
    {
      "cell_type": "markdown",
      "metadata": {
        "id": "Uw4hQiNuGKgy"
      },
      "source": [
        "**Safaricoms Net Profit** has also had a steady growth path, which mirrors Service Revenue. This means the company employs a congruent cost management strategy to remain afloat and profitable"
      ]
    },
    {
      "cell_type": "markdown",
      "metadata": {
        "id": "0m9uUNanXVku"
      },
      "source": [
        "###3.COMMUNITY SUPPORT"
      ]
    },
    {
      "cell_type": "code",
      "metadata": {
        "colab": {
          "base_uri": "https://localhost:8080/",
          "height": 297
        },
        "id": "edRw5WWXIBzk",
        "outputId": "41f46d1f-2365-4412-82ee-86de1159c3fc"
      },
      "source": [
        "#PLOT-3.a.#Spread of Agent Network Countrywide\n",
        "df.plot(x=\"FY\", y='AGENTS NETWORK',)"
      ],
      "execution_count": null,
      "outputs": [
        {
          "output_type": "execute_result",
          "data": {
            "text/plain": [
              "<matplotlib.axes._subplots.AxesSubplot at 0x7fb4839656d0>"
            ]
          },
          "metadata": {
            "tags": []
          },
          "execution_count": 122
        },
        {
          "output_type": "display_data",
          "data": {
            "image/png": "[encoded data removed]",
            "text/plain": [
              "<Figure size 432x288 with 1 Axes>"
            ]
          },
          "metadata": {
            "tags": [],
            "needs_background": "light"
          }
        }
      ]
    },
    {
      "cell_type": "markdown",
      "metadata": {
        "id": "8i6L5WOH4qmq"
      },
      "source": [
        "Mobilising the spread of **Agents Network** country wide was one the highest success contributors in rooting a foundation for Safaricom in the telcom market. Ease of access to agents also boosted MPESA uptake and consequently Net Revenue. There are currently over 175,000 Agents country wide in Kenya."
      ]
    },
    {
      "cell_type": "code",
      "metadata": {
        "id": "qhuJYnhHd-Nc",
        "colab": {
          "base_uri": "https://localhost:8080/",
          "height": 297
        },
        "outputId": "c6b91a14-8ac0-40ec-e100-9a6394352579"
      },
      "source": [
        "#PLOT-3.a.#Safaricom Foundation Fund\n",
        "df.plot(x=\"FY\", y='CSR-FUND',)"
      ],
      "execution_count": null,
      "outputs": [
        {
          "output_type": "execute_result",
          "data": {
            "text/plain": [
              "<matplotlib.axes._subplots.AxesSubplot at 0x7fb4838f0b90>"
            ]
          },
          "metadata": {
            "tags": []
          },
          "execution_count": 123
        },
        {
          "output_type": "display_data",
          "data": {
            "image/png": "[encoded data removed]",
            "text/plain": [
              "<Figure size 432x288 with 1 Axes>"
            ]
          },
          "metadata": {
            "tags": [],
            "needs_background": "light"
          }
        }
      ]
    },
    {
      "cell_type": "markdown",
      "metadata": {
        "id": "DJgtLC9GKJCb"
      },
      "source": [
        "***Safaricom Foundation*** donations grew from Kshs.200 million to over Kshs.450 million. Safaricom has contributed to several rural projects e.g Water sanitisation and Electrification. The cherry on the cake is their **M-PESA ACADEMY** that schools the bright and needy students through highschool and college for free. "
      ]
    },
    {
      "cell_type": "markdown",
      "metadata": {
        "id": "-42a3i8bQXAi"
      },
      "source": [
        "##**CONCLUSION**"
      ]
    },
    {
      "cell_type": "markdown",
      "metadata": {
        "id": "fqz7Lqt9SxDu"
      },
      "source": [
        "We can conclude that Safaricom has used solid strategies to ensure that they remain steady and ahead of competition.\n",
        "\n",
        "*   Heavy Investment in Infrastructure\n",
        "*   Proper management of Capital Resources\n",
        "*   Revenue Diversification from Voice, M-Pesa as the superior earner.\n",
        "*   Human Capital Investment ensuring gender balance and premium terms\n",
        "*   Strategic Expansion nationwide\n",
        "*   Strategic Collaborations with other Corporates for innovative solutions through platforms e.g. Fuliza, M-tiba, Ma SOKO and Little Cab.\n",
        "*   Giving Back to the Community - Safaricom Foundation, and other community based projects e.g. embracing artistes (Jazz) and social economic activities (Tree Planting and Youth BLAZE)\n",
        "\n",
        "\n",
        "\n"
      ]
    },
    {
      "cell_type": "markdown",
      "metadata": {
        "id": "vAXEPx3gSH_v"
      },
      "source": [
        "*If you have the right vision and take the right steps, then Success is invetiable* - Bob Collymore."
      ]
    },
    {
      "cell_type": "markdown",
      "metadata": {
        "id": "sQCrbYRtVS-m"
      },
      "source": [
        "##**APPLICATION**"
      ]
    },
    {
      "cell_type": "markdown",
      "metadata": {
        "id": "RjXby6_SVnXs"
      },
      "source": [
        "As Safaricom plans to Expand to Ethiopia -A solid foundation will be key towards keeping their vision and beating competition. We anticpate growth through :\n",
        "1.   Infrastructural Investment\n",
        "2.   Human and Intellectual Capital\n",
        "3.   Financial Capital - Equity and Debt\n",
        "4.   Social and Relationship Capital\n",
        "When all is in place they will adopt diversified revenue streams to generate income -e.g. an equivalent of Mpesa. Then give back to the society to solidify community support and acceptance. - \n"
      ]
    }
  ]
}